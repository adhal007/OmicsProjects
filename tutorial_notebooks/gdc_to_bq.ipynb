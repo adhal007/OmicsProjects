{
 "cells": [
  {
   "cell_type": "code",
   "execution_count": 1,
   "metadata": {},
   "outputs": [
    {
     "name": "stdout",
     "output_type": "stream",
     "text": [
      "/Users/abhilashdhal/Projects\n"
     ]
    }
   ],
   "source": [
    "%cd '/Users/abhilashdhal/Projects/'"
   ]
  },
  {
   "cell_type": "markdown",
   "metadata": {},
   "source": [
    "## 1. Imports"
   ]
  },
  {
   "cell_type": "code",
   "execution_count": 2,
   "metadata": {},
   "outputs": [
    {
     "data": {
      "text/plain": [
       "<module 'src.Engines.gdc_engine' from '/Users/abhilashdhal/Projects/src/Engines/gdc_engine.py'>"
      ]
     },
     "execution_count": 2,
     "metadata": {},
     "output_type": "execute_result"
    }
   ],
   "source": [
    "import gevent.monkey\n",
    "gevent.monkey.patch_all(thread=False, select=False)\n",
    "import pandas as pd\n",
    "import numpy as np\n",
    "\n",
    "import os\n",
    "from importlib import reload\n",
    "from flatten_json import flatten\n",
    "from tqdm import tqdm \n",
    "import src.Engines.gdc_engine as gdc_engine\n",
    "import src.Connectors.gcp_bigquery_utils as gcp_bigquery_utils\n",
    "from google.cloud import bigquery\n",
    "from google.cloud.exceptions import NotFound\n",
    "reload(gcp_bigquery_utils)\n",
    "reload(gdc_engine)"
   ]
  },
  {
   "cell_type": "markdown",
   "metadata": {},
   "source": [
    "## 1. Initialize gdc_engine to get data from GDC"
   ]
  },
  {
   "cell_type": "code",
   "execution_count": 3,
   "metadata": {},
   "outputs": [],
   "source": [
    "\n",
    "params = {\n",
    "    'files.experimental_strategy': 'RNA-Seq', \n",
    "    'data_type': 'Gene Expression Quantification'\n",
    "}\n",
    "\n",
    "gdc_eng_inst = gdc_engine.GDCEngine(**params)\n"
   ]
  },
  {
   "cell_type": "markdown",
   "metadata": {},
   "source": [
    "## 2. Fetch data from GDC for single or multiple primary sites and upload to bigquery"
   ]
  },
  {
   "cell_type": "code",
   "execution_count": 6,
   "metadata": {},
   "outputs": [
    {
     "name": "stderr",
     "output_type": "stream",
     "text": [
      "WARNING: All log messages before absl::InitializeLog() is called are written to STDERR\n",
      "I0000 00:00:1725299017.270191  632856 config.cc:230] gRPC experiments enabled: call_status_override_on_cancellation, event_engine_dns, event_engine_listener, http2_stats_fix, monitoring_experiment, pick_first_new, trace_record_callops, work_serializer_clears_time_cache\n",
      "I0000 00:00:1725299017.286906  632856 check_gcp_environment_no_op.cc:29] ALTS: Platforms other than Linux and Windows are not supported\n"
     ]
    },
    {
     "name": "stdout",
     "output_type": "stream",
     "text": [
      "Table Already Exists\n"
     ]
    },
    {
     "name": "stderr",
     "output_type": "stream",
     "text": [
      "  0%|          | 0/1 [00:00<?, ?it/s]"
     ]
    },
    {
     "name": "stdout",
     "output_type": "stream",
     "text": [
      "dict_keys(['files.experimental_strategy', 'data_type'])\n",
      "file_id,file_name,submitter_id,experimental_strategy,data_type,platform,cases.case_id,cases.project.name,cases.project.project_id,cases.project.program.name,cases.project.program.program_id,cases.samples.sample_id,cases.diagnoses.last_known_disease_status,cases.diagnoses.primary_diagnosis,cases.diagnoses.tumor_stage,cases.diagnoses.tumor_grade,cases.diagnoses.treatments.treatment_or_therapy,cases.diagnoses.days_to_last_follow_up,cases.diagnoses.age_at_diagnosis,cases.diagnoses.days_to_death,cases.project.primary_site,analysis.workflow_type,cases.demographic.ethnicity,cases.demographic.gender,cases.demographic.race,cases.diagnoses.tissue_or_organ_of_origin,cases.exposures.bmi,cases.exposures.alcohol_history,cases.exposures.years_smoked,cases.samples.tissue_type,cases.samples.sample_type\n",
      "dict_keys(['files.experimental_strategy', 'data_type'])\n",
      "file_id,file_name,submitter_id,experimental_strategy,data_type,platform,cases.case_id,cases.project.name,cases.project.project_id,cases.project.program.name,cases.project.program.program_id,cases.samples.sample_id,cases.diagnoses.last_known_disease_status,cases.diagnoses.primary_diagnosis,cases.diagnoses.tumor_stage,cases.diagnoses.tumor_grade,cases.diagnoses.treatments.treatment_or_therapy,cases.diagnoses.days_to_last_follow_up,cases.diagnoses.age_at_diagnosis,cases.diagnoses.days_to_death,cases.project.primary_site,analysis.workflow_type,cases.demographic.ethnicity,cases.demographic.gender,cases.demographic.race,cases.diagnoses.tissue_or_organ_of_origin,cases.exposures.bmi,cases.exposures.alcohol_history,cases.exposures.years_smoked,cases.samples.tissue_type,cases.samples.sample_type\n"
     ]
    },
    {
     "name": "stderr",
     "output_type": "stream",
     "text": [
      "\n",
      "\u001b[A\n",
      "\u001b[A\n",
      "\u001b[A\n",
      "\u001b[A\n",
      "\u001b[A\n",
      "100%|██████████| 50/50 [00:00<00:00, 80.45it/s]\n",
      "\n",
      "\u001b[A\n",
      "\u001b[A\n",
      "\u001b[A\n",
      "\u001b[A\n",
      "\u001b[A\n",
      "100%|██████████| 50/50 [00:00<00:00, 94.53it/s]\n",
      "\n",
      "\u001b[A\n",
      "\u001b[A\n",
      "\u001b[A\n",
      "\u001b[A\n",
      "100%|██████████| 50/50 [00:00<00:00, 99.45it/s]\n",
      "100%|██████████| 3/3 [00:40<00:00, 13.66s/it]\n",
      "100%|██████████| 1/1 [01:37<00:00, 97.06s/it]"
     ]
    },
    {
     "name": "stdout",
     "output_type": "stream",
     "text": [
      "Data for Esophagus loaded successfully.\n"
     ]
    },
    {
     "name": "stderr",
     "output_type": "stream",
     "text": [
      "\n"
     ]
    }
   ],
   "source": [
    "\n",
    "primary_sites = [\n",
    "    'Esophagus'\n",
    "]\n",
    "\n",
    "## Initialize BigQueryUtils with your project\n",
    "bq_utils = gcp_bigquery_utils.BigQueryUtils(project_id='rnaseqml')\n",
    "table_id = 'rnaseqml.rnaseqexpression.expr_clustered'\n",
    "\n",
    "## Give Schema of your table to be created or updated \n",
    "schema = [\n",
    "    bigquery.SchemaField(\"case_id\", \"STRING\", mode=\"NULLABLE\"),\n",
    "    bigquery.SchemaField(\"file_id\", \"STRING\", mode=\"NULLABLE\"),\n",
    "    bigquery.SchemaField(\"expr_unstr_count\", \"INTEGER\", mode=\"REPEATED\"),\n",
    "    bigquery.SchemaField(\"tissue_type\", \"STRING\", mode=\"NULLABLE\"),\n",
    "    bigquery.SchemaField(\"sample_type\", \"STRING\", mode=\"NULLABLE\"),\n",
    "    bigquery.SchemaField(\"primary_site\", \"STRING\", mode=\"NULLABLE\"),\n",
    "    bigquery.SchemaField(\"tissue_or_organ_of_origin\", \"STRING\", mode=\"NULLABLE\"),\n",
    "    bigquery.SchemaField(\"age_at_diagnosis\", \"FLOAT\", mode=\"NULLABLE\"),\n",
    "    bigquery.SchemaField(\"primary_diagnosis\", \"STRING\", mode=\"NULLABLE\"),\n",
    "    bigquery.SchemaField(\"race\", \"STRING\", mode=\"NULLABLE\"),\n",
    "    bigquery.SchemaField(\"gender\", \"STRING\", mode=\"NULLABLE\"),\n",
    "    bigquery.SchemaField(\"group_identifier\", \"INTEGER\", mode=\"NULLABLE\")\n",
    "]\n",
    "\n",
    "## Create table with partitioning and clustering\n",
    "bq_utils.create_bigquery_table_with_schema(\n",
    "    table_id=table_id, schema=schema, partition_field=\"group_identifier\", clustering_fields=[\"primary_site\", \"tissue_type\"]\n",
    ")\n",
    "\n",
    "## Specify the Kind of Downstream Analysis you want to perform\n",
    "downstream_analysis = 'DE'\n",
    "for site in tqdm(primary_sites):\n",
    "    json_object = gdc_eng_inst.get_data_for_bq(site, downstream_analysis='DE', format='json')\n",
    "\n",
    "    # Load data into BigQuery\n",
    "    job = bq_utils.load_json_data(json_object, schema, table_id)\n",
    "    job.result()  # Wait for the job to complete\n",
    "    print(f\"Data for {site} loaded successfully.\")"
   ]
  },
  {
   "cell_type": "code",
   "execution_count": null,
   "metadata": {},
   "outputs": [],
   "source": []
  }
 ],
 "metadata": {
  "kernelspec": {
   "display_name": "omixhub",
   "language": "python",
   "name": "python3"
  },
  "language_info": {
   "codemirror_mode": {
    "name": "ipython",
    "version": 3
   },
   "file_extension": ".py",
   "mimetype": "text/x-python",
   "name": "python",
   "nbconvert_exporter": "python",
   "pygments_lexer": "ipython3",
   "version": "3.11.6"
  }
 },
 "nbformat": 4,
 "nbformat_minor": 2
}
