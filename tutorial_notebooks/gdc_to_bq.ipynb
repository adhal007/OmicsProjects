{
 "cells": [
  {
   "cell_type": "code",
   "execution_count": 1,
   "metadata": {},
   "outputs": [
    {
     "name": "stdout",
     "output_type": "stream",
     "text": [
      "/Users/abhilashdhal/Projects\n"
     ]
    }
   ],
   "source": [
    "%cd '/Users/abhilashdhal/Projects/'"
   ]
  },
  {
   "cell_type": "markdown",
   "metadata": {},
   "source": [
    "## 1. Imports"
   ]
  },
  {
   "cell_type": "code",
   "execution_count": 2,
   "metadata": {},
   "outputs": [
    {
     "data": {
      "text/plain": [
       "<module 'src.Engines.gdc_engine' from '/Users/abhilashdhal/Projects/src/Engines/gdc_engine.py'>"
      ]
     },
     "execution_count": 2,
     "metadata": {},
     "output_type": "execute_result"
    }
   ],
   "source": [
    "import gevent.monkey\n",
    "gevent.monkey.patch_all(thread=False, select=False)\n",
    "import pandas as pd\n",
    "import numpy as np\n",
    "\n",
    "import os\n",
    "from importlib import reload\n",
    "from flatten_json import flatten\n",
    "from tqdm import tqdm \n",
    "import src.Engines.gdc_engine as gdc_engine\n",
    "import src.Connectors.gcp_bigquery_utils as gcp_bigquery_utils\n",
    "from google.cloud import bigquery\n",
    "from google.cloud.exceptions import NotFound\n",
    "reload(gcp_bigquery_utils)\n",
    "reload(gdc_engine)"
   ]
  },
  {
   "cell_type": "markdown",
   "metadata": {},
   "source": [
    "## 1. Initialize gdc_engine to get data from GDC"
   ]
  },
  {
   "cell_type": "code",
   "execution_count": 3,
   "metadata": {},
   "outputs": [],
   "source": [
    "\n",
    "params = {\n",
    "    'files.experimental_strategy': 'RNA-Seq', \n",
    "    'data_type': 'Gene Expression Quantification'\n",
    "}\n",
    "\n",
    "gdc_eng_inst = gdc_engine.GDCEngine(**params)\n"
   ]
  },
  {
   "cell_type": "markdown",
   "metadata": {},
   "source": [
    "## 2. Fetch data from GDC for single or multiple primary sites and upload to bigquery"
   ]
  },
  {
   "cell_type": "code",
   "execution_count": null,
   "metadata": {},
   "outputs": [],
   "source": [
    "\n",
    "primary_sites = [\n",
    "    'Esophagus'\n",
    "]\n",
    "\n",
    "# Initialize BigQueryUtils with your project\n",
    "bq_utils = gcp_bigquery_utils.BigQueryUtils(project_id='rnaseqml')\n",
    "table_id = 'rnaseqml.rnaseqexpression.expr_clustered'\n",
    "\n",
    "schema = [\n",
    "    bigquery.SchemaField(\"case_id\", \"STRING\", mode=\"NULLABLE\"),\n",
    "    bigquery.SchemaField(\"file_id\", \"STRING\", mode=\"NULLABLE\"),\n",
    "    bigquery.SchemaField(\"expr_unstr_count\", \"INTEGER\", mode=\"REPEATED\"),\n",
    "    bigquery.SchemaField(\"tissue_type\", \"STRING\", mode=\"NULLABLE\"),\n",
    "    bigquery.SchemaField(\"sample_type\", \"STRING\", mode=\"NULLABLE\"),\n",
    "    bigquery.SchemaField(\"primary_site\", \"STRING\", mode=\"NULLABLE\"),\n",
    "    bigquery.SchemaField(\"tissue_or_organ_of_origin\", \"STRING\", mode=\"NULLABLE\"),\n",
    "    bigquery.SchemaField(\"age_at_diagnosis\", \"FLOAT\", mode=\"NULLABLE\"),\n",
    "    bigquery.SchemaField(\"primary_diagnosis\", \"STRING\", mode=\"NULLABLE\"),\n",
    "    bigquery.SchemaField(\"race\", \"STRING\", mode=\"NULLABLE\"),\n",
    "    bigquery.SchemaField(\"gender\", \"STRING\", mode=\"NULLABLE\"),\n",
    "    bigquery.SchemaField(\"group_identifier\", \"INTEGER\", mode=\"NULLABLE\")\n",
    "]\n",
    "\n",
    "# Create table with partitioning and clustering\n",
    "bq_utils.create_bigquery_table_with_schema(\n",
    "    table_id=table_id, schema=schema, partition_field=\"group_identifier\", clustering_fields=[\"primary_site\", \"tissue_type\"]\n",
    ")\n",
    "\n",
    "for site in tqdm(primary_sites):\n",
    "    json_object = rna_seq_DGE_data[site]\n",
    "\n",
    "    # Load data into BigQuery\n",
    "    job = bq_utils.load_json_data(json_object, schema, table_id)\n",
    "    job.result()  # Wait for the job to complete\n",
    "\n",
    "    print(f\"Data for {site} loaded successfully.\")"
   ]
  }
 ],
 "metadata": {
  "kernelspec": {
   "display_name": "omixhub",
   "language": "python",
   "name": "python3"
  },
  "language_info": {
   "codemirror_mode": {
    "name": "ipython",
    "version": 3
   },
   "file_extension": ".py",
   "mimetype": "text/x-python",
   "name": "python",
   "nbconvert_exporter": "python",
   "pygments_lexer": "ipython3",
   "version": "3.11.6"
  }
 },
 "nbformat": 4,
 "nbformat_minor": 2
}
