{
 "cells": [
  {
   "cell_type": "code",
   "execution_count": 1,
   "metadata": {},
   "outputs": [
    {
     "name": "stdout",
     "output_type": "stream",
     "text": [
      "/Users/abhilashdhal/Projects\n"
     ]
    }
   ],
   "source": [
    "%cd '/Users/abhilashdhal/Projects/'"
   ]
  },
  {
   "cell_type": "code",
   "execution_count": 2,
   "metadata": {},
   "outputs": [
    {
     "data": {
      "text/plain": [
       "<module 'src.Connectors.gcp_bigquery_utils' from '/Users/abhilashdhal/Projects/src/Connectors/gcp_bigquery_utils.py'>"
      ]
     },
     "execution_count": 2,
     "metadata": {},
     "output_type": "execute_result"
    }
   ],
   "source": [
    "import pandas as pd\n",
    "from importlib import reload\n",
    "import src.Engines.analysis_engine as analysis_engine\n",
    "import src.Connectors.gcp_bigquery_utils as gcp_bigquery_utils\n",
    "reload(analysis_engine)\n",
    "reload(gcp_bigquery_utils)"
   ]
  },
  {
   "cell_type": "markdown",
   "metadata": {},
   "source": [
    "## 1. Download Dataset from BigQuery for a given Primary Diagnosis By Primary Site and the Normal Tissue for the Primary site"
   ]
  },
  {
   "cell_type": "code",
   "execution_count": 3,
   "metadata": {},
   "outputs": [
    {
     "name": "stderr",
     "output_type": "stream",
     "text": [
      "WARNING: All log messages before absl::InitializeLog() is called are written to STDERR\n",
      "I0000 00:00:1725303525.127815  712075 config.cc:230] gRPC experiments enabled: call_status_override_on_cancellation, event_engine_dns, event_engine_listener, http2_stats_fix, monitoring_experiment, pick_first_new, trace_record_callops, work_serializer_clears_time_cache\n",
      "I0000 00:00:1725303525.133415  712075 check_gcp_environment_no_op.cc:29] ALTS: Platforms other than Linux and Windows are not supported\n"
     ]
    }
   ],
   "source": [
    "project_id = 'rnaseqml'\n",
    "dataset_id = 'rnaseqexpression'\n",
    "table_id = 'expr_clustered_08082024'\n",
    "bq_queries = gcp_bigquery_utils.BigQueryQueries(project_id=project_id, \n",
    "                                              dataset_id=dataset_id,\n",
    "                                              table_id=table_id)\n",
    "\n"
   ]
  },
  {
   "cell_type": "code",
   "execution_count": 4,
   "metadata": {},
   "outputs": [
    {
     "name": "stderr",
     "output_type": "stream",
     "text": [
      "I0000 00:00:1725303526.602047  712075 check_gcp_environment_no_op.cc:29] ALTS: Platforms other than Linux and Windows are not supported\n"
     ]
    }
   ],
   "source": [
    "pr_site = 'Head and Neck'\n",
    "pr_diag = 'Squamous cell carcinoma, NOS'\n",
    "data_from_bq = bq_queries.get_df_for_pydeseq(primary_site=pr_site, primary_diagnosis=pr_diag)"
   ]
  },
  {
   "cell_type": "code",
   "execution_count": 5,
   "metadata": {},
   "outputs": [
    {
     "data": {
      "text/html": [
       "<div>\n",
       "<style scoped>\n",
       "    .dataframe tbody tr th:only-of-type {\n",
       "        vertical-align: middle;\n",
       "    }\n",
       "\n",
       "    .dataframe tbody tr th {\n",
       "        vertical-align: top;\n",
       "    }\n",
       "\n",
       "    .dataframe thead th {\n",
       "        text-align: right;\n",
       "    }\n",
       "</style>\n",
       "<table border=\"1\" class=\"dataframe\">\n",
       "  <thead>\n",
       "    <tr style=\"text-align: right;\">\n",
       "      <th></th>\n",
       "      <th>case_id</th>\n",
       "      <th>primary_site</th>\n",
       "      <th>sample_type</th>\n",
       "      <th>tissue_type</th>\n",
       "      <th>primary_diagnosis</th>\n",
       "      <th>expr_unstr_count</th>\n",
       "    </tr>\n",
       "  </thead>\n",
       "  <tbody>\n",
       "    <tr>\n",
       "      <th>0</th>\n",
       "      <td>5422a86d-f9ff-4fb6-873e-bf7cc3de50e5</td>\n",
       "      <td>Head and Neck</td>\n",
       "      <td>Primary Tumor</td>\n",
       "      <td>Tumor</td>\n",
       "      <td>Squamous cell carcinoma, NOS</td>\n",
       "      <td>[1666, 0, 1310, 663, 367, 598, 10862, 1930, 20...</td>\n",
       "    </tr>\n",
       "    <tr>\n",
       "      <th>1</th>\n",
       "      <td>2855bf40-e5e1-4519-b47a-327bfc275279</td>\n",
       "      <td>Head and Neck</td>\n",
       "      <td>Primary Tumor</td>\n",
       "      <td>Tumor</td>\n",
       "      <td>Squamous cell carcinoma, NOS</td>\n",
       "      <td>[1597, 1, 1467, 544, 365, 345, 1172, 1256, 620...</td>\n",
       "    </tr>\n",
       "    <tr>\n",
       "      <th>2</th>\n",
       "      <td>0fb3e5ff-54f0-43c5-9322-541bb7825e7f</td>\n",
       "      <td>Head and Neck</td>\n",
       "      <td>Primary Tumor</td>\n",
       "      <td>Tumor</td>\n",
       "      <td>Squamous cell carcinoma, NOS</td>\n",
       "      <td>[977, 35, 2057, 539, 247, 1997, 6023, 2071, 12...</td>\n",
       "    </tr>\n",
       "    <tr>\n",
       "      <th>3</th>\n",
       "      <td>3c5bc678-41e9-46b3-9686-5cd95659ab71</td>\n",
       "      <td>Head and Neck</td>\n",
       "      <td>Primary Tumor</td>\n",
       "      <td>Tumor</td>\n",
       "      <td>Squamous cell carcinoma, NOS</td>\n",
       "      <td>[5433, 0, 2240, 2600, 3159, 402, 4090, 849, 22...</td>\n",
       "    </tr>\n",
       "    <tr>\n",
       "      <th>4</th>\n",
       "      <td>50239d1d-b3a4-4240-ab83-b24ba67b1299</td>\n",
       "      <td>Head and Neck</td>\n",
       "      <td>Primary Tumor</td>\n",
       "      <td>Tumor</td>\n",
       "      <td>Squamous cell carcinoma, NOS</td>\n",
       "      <td>[1211, 0, 2168, 325, 320, 114, 2900, 2571, 153...</td>\n",
       "    </tr>\n",
       "  </tbody>\n",
       "</table>\n",
       "</div>"
      ],
      "text/plain": [
       "                                case_id   primary_site    sample_type  \\\n",
       "0  5422a86d-f9ff-4fb6-873e-bf7cc3de50e5  Head and Neck  Primary Tumor   \n",
       "1  2855bf40-e5e1-4519-b47a-327bfc275279  Head and Neck  Primary Tumor   \n",
       "2  0fb3e5ff-54f0-43c5-9322-541bb7825e7f  Head and Neck  Primary Tumor   \n",
       "3  3c5bc678-41e9-46b3-9686-5cd95659ab71  Head and Neck  Primary Tumor   \n",
       "4  50239d1d-b3a4-4240-ab83-b24ba67b1299  Head and Neck  Primary Tumor   \n",
       "\n",
       "  tissue_type             primary_diagnosis  \\\n",
       "0       Tumor  Squamous cell carcinoma, NOS   \n",
       "1       Tumor  Squamous cell carcinoma, NOS   \n",
       "2       Tumor  Squamous cell carcinoma, NOS   \n",
       "3       Tumor  Squamous cell carcinoma, NOS   \n",
       "4       Tumor  Squamous cell carcinoma, NOS   \n",
       "\n",
       "                                    expr_unstr_count  \n",
       "0  [1666, 0, 1310, 663, 367, 598, 10862, 1930, 20...  \n",
       "1  [1597, 1, 1467, 544, 365, 345, 1172, 1256, 620...  \n",
       "2  [977, 35, 2057, 539, 247, 1997, 6023, 2071, 12...  \n",
       "3  [5433, 0, 2240, 2600, 3159, 402, 4090, 849, 22...  \n",
       "4  [1211, 0, 2168, 325, 320, 114, 2900, 2571, 153...  "
      ]
     },
     "execution_count": 5,
     "metadata": {},
     "output_type": "execute_result"
    }
   ],
   "source": [
    "data_from_bq.head()"
   ]
  },
  {
   "cell_type": "markdown",
   "metadata": {},
   "source": [
    "## 2. Data Preprocessing for PyDeSeq and GSEA"
   ]
  },
  {
   "cell_type": "code",
   "execution_count": 18,
   "metadata": {},
   "outputs": [],
   "source": [
    "analysis_eng = analysis_engine.AnalysisEngine(data_from_bq, analysis_type='DE')\n",
    "if not analysis_eng.check_tumor_normal_counts():\n",
    "    raise ValueError(\"Tumor and Normal counts should be at least 10 each\")\n",
    "gene_ids_or_gene_cols_df = pd.read_csv('/Users/abhilashdhal/Projects/personal_docs/data/Transcriptomics/data/gene_annotation/gene_id_to_gene_name_mapping.csv')\n",
    "gene_ids_or_gene_cols = list(gene_ids_or_gene_cols_df['gene_id'].to_numpy())"
   ]
  },
  {
   "cell_type": "code",
   "execution_count": 19,
   "metadata": {},
   "outputs": [],
   "source": [
    "exp_df = analysis_eng.expand_data_from_bq(data_from_bq, gene_ids_or_gene_cols=gene_ids_or_gene_cols, analysis_type='DE')\n",
    "metadata = analysis_eng.metadata_for_pydeseq(exp_df=exp_df)\n",
    "counts_for_de = analysis_eng.counts_from_bq_df(exp_df, gene_ids_or_gene_cols)"
   ]
  },
  {
   "cell_type": "markdown",
   "metadata": {},
   "source": [
    "## 3. Run DESeq2 for the given Primary Diagnosis By Primary Site and the Normal Tissue for the Primary site"
   ]
  },
  {
   "cell_type": "code",
   "execution_count": 20,
   "metadata": {},
   "outputs": [
    {
     "name": "stdout",
     "output_type": "stream",
     "text": [
      "03/09//2024 12:30:1725303653 AM - INFO - PyDeSeqWrapper.run_deseq: Running DESeq2 for groups: {'group1': 'Tumor', 'group2': 'Normal'}\n",
      "03/09//2024 12:30:1725303653 AM - INFO - PyDeSeqWrapper.run_deseq: Running DESeq2  factor analysis with design factor: C and o\n",
      "03/09//2024 12:30:1725303653 AM - INFO - PyDeSeqWrapper.run_deseq: Statistical analysis of Tumor vs Normal in {'group1': 'Tumor', 'group2': 'Normal'}\n"
     ]
    },
    {
     "name": "stderr",
     "output_type": "stream",
     "text": [
      "Fitting size factors...\n",
      "... done in 0.42 seconds.\n",
      "\n",
      "I0000 00:00:1725303657.111200  712075 work_stealing_thread_pool.cc:320] WorkStealingThreadPoolImpl::PrepareFork\n",
      "I0000 00:00:1725303657.131892  712075 work_stealing_thread_pool.cc:320] WorkStealingThreadPoolImpl::PrepareFork\n",
      "I0000 00:00:1725303657.135921  712075 work_stealing_thread_pool.cc:320] WorkStealingThreadPoolImpl::PrepareFork\n",
      "I0000 00:00:1725303657.144212  712075 work_stealing_thread_pool.cc:320] WorkStealingThreadPoolImpl::PrepareFork\n",
      "I0000 00:00:1725303657.150960  712075 work_stealing_thread_pool.cc:320] WorkStealingThreadPoolImpl::PrepareFork\n",
      "I0000 00:00:1725303657.160985  712075 work_stealing_thread_pool.cc:320] WorkStealingThreadPoolImpl::PrepareFork\n",
      "I0000 00:00:1725303657.170410  712075 work_stealing_thread_pool.cc:320] WorkStealingThreadPoolImpl::PrepareFork\n",
      "I0000 00:00:1725303657.190287  712075 work_stealing_thread_pool.cc:320] WorkStealingThreadPoolImpl::PrepareFork\n",
      "I0000 00:00:1725303657.267184  712075 work_stealing_thread_pool.cc:320] WorkStealingThreadPoolImpl::PrepareFork\n",
      "I0000 00:00:1725303657.308012  712075 work_stealing_thread_pool.cc:320] WorkStealingThreadPoolImpl::PrepareFork\n",
      "Fitting dispersions...\n",
      "... done in 11.11 seconds.\n",
      "\n",
      "Fitting dispersion trend curve...\n",
      "... done in 4.04 seconds.\n",
      "\n",
      "Fitting MAP dispersions...\n",
      "... done in 11.10 seconds.\n",
      "\n",
      "Fitting LFCs...\n",
      "... done in 7.02 seconds.\n",
      "\n",
      "Refitting 3818 outliers.\n",
      "\n",
      "Fitting size factors...\n",
      "... done in 0.01 seconds.\n",
      "\n",
      "Fitting dispersions...\n",
      "... done in 0.70 seconds.\n",
      "\n",
      "Fitting MAP dispersions...\n",
      "... done in 0.64 seconds.\n",
      "\n",
      "Fitting LFCs...\n",
      "... done in 0.62 seconds.\n",
      "\n",
      "Running Wald tests...\n",
      "... done in 4.08 seconds.\n",
      "\n"
     ]
    },
    {
     "name": "stdout",
     "output_type": "stream",
     "text": [
      "Log2 fold change & Wald test p-value: Condition Tumor vs Normal\n"
     ]
    },
    {
     "data": {
      "text/html": [
       "<div>\n",
       "<style scoped>\n",
       "    .dataframe tbody tr th:only-of-type {\n",
       "        vertical-align: middle;\n",
       "    }\n",
       "\n",
       "    .dataframe tbody tr th {\n",
       "        vertical-align: top;\n",
       "    }\n",
       "\n",
       "    .dataframe thead th {\n",
       "        text-align: right;\n",
       "    }\n",
       "</style>\n",
       "<table border=\"1\" class=\"dataframe\">\n",
       "  <thead>\n",
       "    <tr style=\"text-align: right;\">\n",
       "      <th></th>\n",
       "      <th>baseMean</th>\n",
       "      <th>log2FoldChange</th>\n",
       "      <th>lfcSE</th>\n",
       "      <th>stat</th>\n",
       "      <th>pvalue</th>\n",
       "      <th>padj</th>\n",
       "    </tr>\n",
       "  </thead>\n",
       "  <tbody>\n",
       "    <tr>\n",
       "      <th>ENSG00000258011.2</th>\n",
       "      <td>2232.991406</td>\n",
       "      <td>-1.416117</td>\n",
       "      <td>0.179004</td>\n",
       "      <td>-7.911108</td>\n",
       "      <td>2.551075e-15</td>\n",
       "      <td>1.366056e-13</td>\n",
       "    </tr>\n",
       "    <tr>\n",
       "      <th>ENSG00000186792.17</th>\n",
       "      <td>2.942486</td>\n",
       "      <td>-3.730918</td>\n",
       "      <td>0.730105</td>\n",
       "      <td>-5.110109</td>\n",
       "      <td>3.219736e-07</td>\n",
       "      <td>3.328443e-06</td>\n",
       "    </tr>\n",
       "    <tr>\n",
       "      <th>ENSG00000234551.2</th>\n",
       "      <td>1982.284385</td>\n",
       "      <td>0.129415</td>\n",
       "      <td>0.111797</td>\n",
       "      <td>1.157585</td>\n",
       "      <td>2.470336e-01</td>\n",
       "      <td>3.620486e-01</td>\n",
       "    </tr>\n",
       "    <tr>\n",
       "      <th>ENSG00000270818.1</th>\n",
       "      <td>518.247341</td>\n",
       "      <td>-0.349234</td>\n",
       "      <td>0.119929</td>\n",
       "      <td>-2.912014</td>\n",
       "      <td>3.591064e-03</td>\n",
       "      <td>1.210612e-02</td>\n",
       "    </tr>\n",
       "    <tr>\n",
       "      <th>ENSG00000008323.15</th>\n",
       "      <td>471.753783</td>\n",
       "      <td>1.068874</td>\n",
       "      <td>0.164111</td>\n",
       "      <td>6.513100</td>\n",
       "      <td>7.361526e-11</td>\n",
       "      <td>1.656502e-09</td>\n",
       "    </tr>\n",
       "    <tr>\n",
       "      <th>...</th>\n",
       "      <td>...</td>\n",
       "      <td>...</td>\n",
       "      <td>...</td>\n",
       "      <td>...</td>\n",
       "      <td>...</td>\n",
       "      <td>...</td>\n",
       "    </tr>\n",
       "    <tr>\n",
       "      <th>ENSG00000267077.1</th>\n",
       "      <td>0.360830</td>\n",
       "      <td>-0.410850</td>\n",
       "      <td>0.830193</td>\n",
       "      <td>-0.494886</td>\n",
       "      <td>6.206809e-01</td>\n",
       "      <td>NaN</td>\n",
       "    </tr>\n",
       "    <tr>\n",
       "      <th>ENSG00000109111.15</th>\n",
       "      <td>190.771788</td>\n",
       "      <td>-1.002799</td>\n",
       "      <td>0.133398</td>\n",
       "      <td>-7.517322</td>\n",
       "      <td>5.590952e-14</td>\n",
       "      <td>2.320717e-12</td>\n",
       "    </tr>\n",
       "    <tr>\n",
       "      <th>ENSG00000253088.1</th>\n",
       "      <td>0.000000</td>\n",
       "      <td>NaN</td>\n",
       "      <td>NaN</td>\n",
       "      <td>NaN</td>\n",
       "      <td>NaN</td>\n",
       "      <td>NaN</td>\n",
       "    </tr>\n",
       "    <tr>\n",
       "      <th>ENSG00000255401.1</th>\n",
       "      <td>2.472590</td>\n",
       "      <td>-1.105194</td>\n",
       "      <td>0.260670</td>\n",
       "      <td>-4.239828</td>\n",
       "      <td>2.236914e-05</td>\n",
       "      <td>1.465116e-04</td>\n",
       "    </tr>\n",
       "    <tr>\n",
       "      <th>ENSG00000270959.1</th>\n",
       "      <td>22.169829</td>\n",
       "      <td>0.450951</td>\n",
       "      <td>0.222060</td>\n",
       "      <td>2.030766</td>\n",
       "      <td>4.227877e-02</td>\n",
       "      <td>9.209400e-02</td>\n",
       "    </tr>\n",
       "  </tbody>\n",
       "</table>\n",
       "<p>60660 rows × 6 columns</p>\n",
       "</div>"
      ],
      "text/plain": [
       "                       baseMean  log2FoldChange     lfcSE      stat  \\\n",
       "ENSG00000258011.2   2232.991406       -1.416117  0.179004 -7.911108   \n",
       "ENSG00000186792.17     2.942486       -3.730918  0.730105 -5.110109   \n",
       "ENSG00000234551.2   1982.284385        0.129415  0.111797  1.157585   \n",
       "ENSG00000270818.1    518.247341       -0.349234  0.119929 -2.912014   \n",
       "ENSG00000008323.15   471.753783        1.068874  0.164111  6.513100   \n",
       "...                         ...             ...       ...       ...   \n",
       "ENSG00000267077.1      0.360830       -0.410850  0.830193 -0.494886   \n",
       "ENSG00000109111.15   190.771788       -1.002799  0.133398 -7.517322   \n",
       "ENSG00000253088.1      0.000000             NaN       NaN       NaN   \n",
       "ENSG00000255401.1      2.472590       -1.105194  0.260670 -4.239828   \n",
       "ENSG00000270959.1     22.169829        0.450951  0.222060  2.030766   \n",
       "\n",
       "                          pvalue          padj  \n",
       "ENSG00000258011.2   2.551075e-15  1.366056e-13  \n",
       "ENSG00000186792.17  3.219736e-07  3.328443e-06  \n",
       "ENSG00000234551.2   2.470336e-01  3.620486e-01  \n",
       "ENSG00000270818.1   3.591064e-03  1.210612e-02  \n",
       "ENSG00000008323.15  7.361526e-11  1.656502e-09  \n",
       "...                          ...           ...  \n",
       "ENSG00000267077.1   6.206809e-01           NaN  \n",
       "ENSG00000109111.15  5.590952e-14  2.320717e-12  \n",
       "ENSG00000253088.1            NaN           NaN  \n",
       "ENSG00000255401.1   2.236914e-05  1.465116e-04  \n",
       "ENSG00000270959.1   4.227877e-02  9.209400e-02  \n",
       "\n",
       "[60660 rows x 6 columns]"
      ]
     },
     "metadata": {},
     "output_type": "display_data"
    }
   ],
   "source": [
    "res_pydeseq = analysis_eng.run_pydeseq(metadata=metadata, counts=counts_for_de)\n"
   ]
  },
  {
   "cell_type": "code",
   "execution_count": 21,
   "metadata": {},
   "outputs": [],
   "source": [
    "res_pydeseq_with_gene_names = pd.merge(res_pydeseq, gene_ids_or_gene_cols_df, left_on='index', right_on='gene_id')"
   ]
  },
  {
   "cell_type": "markdown",
   "metadata": {},
   "source": [
    "## 4. Run GSEA for the given Primary Diagnosis By Primary Site and the Normal Tissue for the Primary site using a gene set database"
   ]
  },
  {
   "cell_type": "code",
   "execution_count": 23,
   "metadata": {},
   "outputs": [
    {
     "name": "stdout",
     "output_type": "stream",
     "text": [
      "['ARCHS4_Cell-lines', 'ARCHS4_IDG_Coexp', 'ARCHS4_Kinases_Coexp', 'ARCHS4_TFs_Coexp', 'ARCHS4_Tissues', 'Achilles_fitness_decrease', 'Achilles_fitness_increase', 'Aging_Perturbations_from_GEO_down', 'Aging_Perturbations_from_GEO_up', 'Allen_Brain_Atlas_10x_scRNA_2021', 'Allen_Brain_Atlas_down', 'Allen_Brain_Atlas_up', 'Azimuth_2023', 'Azimuth_Cell_Types_2021', 'BioCarta_2013', 'BioCarta_2015', 'BioCarta_2016', 'BioPlanet_2019', 'BioPlex_2017', 'CCLE_Proteomics_2020', 'CORUM', 'COVID-19_Related_Gene_Sets', 'COVID-19_Related_Gene_Sets_2021', 'Cancer_Cell_Line_Encyclopedia', 'CellMarker_2024', 'CellMarker_Augmented_2021', 'ChEA_2013', 'ChEA_2015', 'ChEA_2016', 'ChEA_2022', 'Chromosome_Location', 'Chromosome_Location_hg19', 'ClinVar_2019', 'DGIdb_Drug_Targets_2024', 'DSigDB', 'Data_Acquisition_Method_Most_Popular_Genes', 'DepMap_CRISPR_GeneDependency_CellLines_2023', 'DepMap_WG_CRISPR_Screens_Broad_CellLines_2019', 'DepMap_WG_CRISPR_Screens_Sanger_CellLines_2019', 'Descartes_Cell_Types_and_Tissue_2021', 'Diabetes_Perturbations_GEO_2022', 'DisGeNET', 'Disease_Perturbations_from_GEO_down', 'Disease_Perturbations_from_GEO_up', 'Disease_Signatures_from_GEO_down_2014', 'Disease_Signatures_from_GEO_up_2014', 'DrugMatrix', 'Drug_Perturbations_from_GEO_2014', 'Drug_Perturbations_from_GEO_down', 'Drug_Perturbations_from_GEO_up', 'ENCODE_Histone_Modifications_2013', 'ENCODE_Histone_Modifications_2015', 'ENCODE_TF_ChIP-seq_2014', 'ENCODE_TF_ChIP-seq_2015', 'ENCODE_and_ChEA_Consensus_TFs_from_ChIP-X', 'ESCAPE', 'Elsevier_Pathway_Collection', 'Enrichr_Libraries_Most_Popular_Genes', 'Enrichr_Submissions_TF-Gene_Coocurrence', 'Enrichr_Users_Contributed_Lists_2020', 'Epigenomics_Roadmap_HM_ChIP-seq', 'FANTOM6_lncRNA_KD_DEGs', 'GO_Biological_Process_2013', 'GO_Biological_Process_2015', 'GO_Biological_Process_2017', 'GO_Biological_Process_2017b', 'GO_Biological_Process_2018', 'GO_Biological_Process_2021', 'GO_Biological_Process_2023', 'GO_Cellular_Component_2013', 'GO_Cellular_Component_2015', 'GO_Cellular_Component_2017', 'GO_Cellular_Component_2017b', 'GO_Cellular_Component_2018', 'GO_Cellular_Component_2021', 'GO_Cellular_Component_2023', 'GO_Molecular_Function_2013', 'GO_Molecular_Function_2015', 'GO_Molecular_Function_2017', 'GO_Molecular_Function_2017b', 'GO_Molecular_Function_2018', 'GO_Molecular_Function_2021', 'GO_Molecular_Function_2023', 'GTEx_Aging_Signatures_2021', 'GTEx_Tissue_Expression_Down', 'GTEx_Tissue_Expression_Up', 'GTEx_Tissues_V8_2023', 'GWAS_Catalog_2019', 'GWAS_Catalog_2023', 'GeDiPNet_2023', 'GeneSigDB', 'Gene_Perturbations_from_GEO_down', 'Gene_Perturbations_from_GEO_up', 'Genes_Associated_with_NIH_Grants', 'Genome_Browser_PWMs', 'GlyGen_Glycosylated_Proteins_2022', 'HDSigDB_Human_2021', 'HDSigDB_Mouse_2021', 'HMDB_Metabolites', 'HMS_LINCS_KinomeScan', 'HomoloGene', 'HuBMAP_ASCT_plus_B_augmented_w_RNAseq_Coexpression', 'HuBMAP_ASCTplusB_augmented_2022', 'HumanCyc_2015', 'HumanCyc_2016', 'Human_Gene_Atlas', 'Human_Phenotype_Ontology', 'IDG_Drug_Targets_2022', 'InterPro_Domains_2019', 'Jensen_COMPARTMENTS', 'Jensen_DISEASES', 'Jensen_TISSUES', 'KEA_2013', 'KEA_2015', 'KEGG_2013', 'KEGG_2015', 'KEGG_2016', 'KEGG_2019_Human', 'KEGG_2019_Mouse', 'KEGG_2021_Human', 'KOMP2_Mouse_Phenotypes_2022', 'Kinase_Perturbations_from_GEO_down', 'Kinase_Perturbations_from_GEO_up', 'L1000_Kinase_and_GPCR_Perturbations_down', 'L1000_Kinase_and_GPCR_Perturbations_up', 'LINCS_L1000_CRISPR_KO_Consensus_Sigs', 'LINCS_L1000_Chem_Pert_Consensus_Sigs', 'LINCS_L1000_Chem_Pert_down', 'LINCS_L1000_Chem_Pert_up', 'LINCS_L1000_Ligand_Perturbations_down', 'LINCS_L1000_Ligand_Perturbations_up', 'Ligand_Perturbations_from_GEO_down', 'Ligand_Perturbations_from_GEO_up', 'MAGMA_Drugs_and_Diseases', 'MAGNET_2023', 'MCF7_Perturbations_from_GEO_down', 'MCF7_Perturbations_from_GEO_up', 'MGI_Mammalian_Phenotype_2013', 'MGI_Mammalian_Phenotype_2017', 'MGI_Mammalian_Phenotype_Level_3', 'MGI_Mammalian_Phenotype_Level_4', 'MGI_Mammalian_Phenotype_Level_4_2019', 'MGI_Mammalian_Phenotype_Level_4_2021', 'MSigDB_Computational', 'MSigDB_Hallmark_2020', 'MSigDB_Oncogenic_Signatures', 'Metabolomics_Workbench_Metabolites_2022', 'Microbe_Perturbations_from_GEO_down', 'Microbe_Perturbations_from_GEO_up', 'MoTrPAC_2023', 'Mouse_Gene_Atlas', 'NCI-60_Cancer_Cell_Lines', 'NCI-Nature_2016', 'NIH_Funded_PIs_2017_AutoRIF_ARCHS4_Predictions', 'NIH_Funded_PIs_2017_GeneRIF_ARCHS4_Predictions', 'NIH_Funded_PIs_2017_Human_AutoRIF', 'NIH_Funded_PIs_2017_Human_GeneRIF', 'NURSA_Human_Endogenous_Complexome', 'OMIM_Disease', 'OMIM_Expanded', 'Old_CMAP_down', 'Old_CMAP_up', 'Orphanet_Augmented_2021', 'PFOCR_Pathways', 'PFOCR_Pathways_2023', 'PPI_Hub_Proteins', 'PanglaoDB_Augmented_2021', 'Panther_2015', 'Panther_2016', 'Pfam_Domains_2019', 'Pfam_InterPro_Domains', 'PheWeb_2019', 'PhenGenI_Association_2021', 'Phosphatase_Substrates_from_DEPOD', 'ProteomicsDB_2020', 'Proteomics_Drug_Atlas_2023', 'RNA-Seq_Disease_Gene_and_Drug_Signatures_from_GEO', 'RNAseq_Automatic_GEO_Signatures_Human_Down', 'RNAseq_Automatic_GEO_Signatures_Human_Up', 'RNAseq_Automatic_GEO_Signatures_Mouse_Down', 'RNAseq_Automatic_GEO_Signatures_Mouse_Up', 'Rare_Diseases_AutoRIF_ARCHS4_Predictions', 'Rare_Diseases_AutoRIF_Gene_Lists', 'Rare_Diseases_GeneRIF_ARCHS4_Predictions', 'Rare_Diseases_GeneRIF_Gene_Lists', 'Reactome_2013', 'Reactome_2015', 'Reactome_2016', 'Reactome_2022', 'Rummagene_kinases', 'Rummagene_signatures', 'Rummagene_transcription_factors', 'SILAC_Phosphoproteomics', 'SubCell_BarCode', 'SynGO_2022', 'SynGO_2024', 'SysMyo_Muscle_Gene_Sets', 'TF-LOF_Expression_from_GEO', 'TF_Perturbations_Followed_by_Expression', 'TG_GATES_2020', 'TRANSFAC_and_JASPAR_PWMs', 'TRRUST_Transcription_Factors_2019', 'Table_Mining_of_CRISPR_Studies', 'Tabula_Muris', 'Tabula_Sapiens', 'TargetScan_microRNA', 'TargetScan_microRNA_2017', 'The_Kinase_Library_2023', 'Tissue_Protein_Expression_from_Human_Proteome_Map', 'Tissue_Protein_Expression_from_ProteomicsDB', 'Transcription_Factor_PPIs', 'UK_Biobank_GWAS_v1', 'Virus-Host_PPI_P-HIPSTer_2020', 'VirusMINT', 'Virus_Perturbations_from_GEO_down', 'Virus_Perturbations_from_GEO_up', 'WikiPathway_2021_Human', 'WikiPathway_2023_Human', 'WikiPathways_2013', 'WikiPathways_2015', 'WikiPathways_2016', 'WikiPathways_2019_Human', 'WikiPathways_2019_Mouse', 'dbGaP', 'huMAP', 'lncHUB_lncRNA_Co-Expression', 'miRTarBase_2017']\n"
     ]
    }
   ],
   "source": [
    "from gseapy.plot import gseaplot\n",
    "import gseapy as gp\n",
    "from gseapy import dotplot\n",
    "gsea_options = gp.get_library_name()\n",
    "print(gsea_options)"
   ]
  },
  {
   "cell_type": "code",
   "execution_count": 27,
   "metadata": {},
   "outputs": [
    {
     "data": {
      "image/png": "[encoded data removed]",
      "text/plain": [
       "<Figure size 400x500 with 4 Axes>"
      ]
     },
     "metadata": {},
     "output_type": "display_data"
    }
   ],
   "source": [
    "gene_set = 'Human_Gene_Atlas'\n",
    "result, plot = analysis_eng.run_gsea(res_pydeseq_with_gene_names, gene_set)"
   ]
  }
 ],
 "metadata": {
  "kernelspec": {
   "display_name": "omixhub",
   "language": "python",
   "name": "python3"
  },
  "language_info": {
   "codemirror_mode": {
    "name": "ipython",
    "version": 3
   },
   "file_extension": ".py",
   "mimetype": "text/x-python",
   "name": "python",
   "nbconvert_exporter": "python",
   "pygments_lexer": "ipython3",
   "version": "3.11.6"
  }
 },
 "nbformat": 4,
 "nbformat_minor": 2
}
