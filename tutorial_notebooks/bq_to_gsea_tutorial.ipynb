{
 "cells": [
  {
   "cell_type": "code",
   "execution_count": 1,
   "metadata": {},
   "outputs": [
    {
     "name": "stdout",
     "output_type": "stream",
     "text": [
      "/Users/abhilashdhal/Projects\n"
     ]
    }
   ],
   "source": [
    "%cd '/Users/abhilashdhal/Projects/'"
   ]
  },
  {
   "cell_type": "code",
   "execution_count": 2,
   "metadata": {},
   "outputs": [
    {
     "data": {
      "text/plain": [
       "<module 'src.Connectors.gcp_bigquery_utils' from '/Users/abhilashdhal/Projects/src/Connectors/gcp_bigquery_utils.py'>"
      ]
     },
     "execution_count": 2,
     "metadata": {},
     "output_type": "execute_result"
    }
   ],
   "source": [
    "import pandas as pd\n",
    "from importlib import reload\n",
    "import src.Engines.analysis_engine as analysis_engine\n",
    "import src.Connectors.gcp_bigquery_utils as gcp_bigquery_utils\n",
    "reload(analysis_engine)\n",
    "reload(gcp_bigquery_utils)"
   ]
  },
  {
   "cell_type": "markdown",
   "metadata": {},
   "source": [
    "## 1. Download Dataset from BigQuery for a given Primary Diagnosis By Primary Site and the Normal Tissue for the Primary site"
   ]
  },
  {
   "cell_type": "code",
   "execution_count": 3,
   "metadata": {},
   "outputs": [
    {
     "name": "stderr",
     "output_type": "stream",
     "text": [
      "WARNING: All log messages before absl::InitializeLog() is called are written to STDERR\n",
      "I0000 00:00:1725303525.127815  712075 config.cc:230] gRPC experiments enabled: call_status_override_on_cancellation, event_engine_dns, event_engine_listener, http2_stats_fix, monitoring_experiment, pick_first_new, trace_record_callops, work_serializer_clears_time_cache\n",
      "I0000 00:00:1725303525.133415  712075 check_gcp_environment_no_op.cc:29] ALTS: Platforms other than Linux and Windows are not supported\n"
     ]
    }
   ],
   "source": [
    "project_id = 'rnaseqml'\n",
    "dataset_id = 'rnaseqexpression'\n",
    "table_id = 'expr_clustered_08082024'\n",
    "bq_queries = gcp_bigquery_utils.BigQueryQueries(project_id=project_id, \n",
    "                                              dataset_id=dataset_id,\n",
    "                                              table_id=table_id)\n",
    "\n"
   ]
  },
  {
   "cell_type": "code",
   "execution_count": 4,
   "metadata": {},
   "outputs": [
    {
     "name": "stderr",
     "output_type": "stream",
     "text": [
      "I0000 00:00:1725303526.602047  712075 check_gcp_environment_no_op.cc:29] ALTS: Platforms other than Linux and Windows are not supported\n"
     ]
    }
   ],
   "source": [
    "pr_site = 'Head and Neck'\n",
    "pr_diag = 'Squamous cell carcinoma, NOS'\n",
    "data_from_bq = bq_queries.get_df_for_pydeseq(primary_site=pr_site, primary_diagnosis=pr_diag)"
   ]
  },
  {
   "cell_type": "code",
   "execution_count": 5,
   "metadata": {},
   "outputs": [
    {
     "data": {
      "text/html": [
       "<div>\n",
       "<style scoped>\n",
       "    .dataframe tbody tr th:only-of-type {\n",
       "        vertical-align: middle;\n",
       "    }\n",
       "\n",
       "    .dataframe tbody tr th {\n",
       "        vertical-align: top;\n",
       "    }\n",
       "\n",
       "    .dataframe thead th {\n",
       "        text-align: right;\n",
       "    }\n",
       "</style>\n",
       "<table border=\"1\" class=\"dataframe\">\n",
       "  <thead>\n",
       "    <tr style=\"text-align: right;\">\n",
       "      <th></th>\n",
       "      <th>case_id</th>\n",
       "      <th>primary_site</th>\n",
       "      <th>sample_type</th>\n",
       "      <th>tissue_type</th>\n",
       "      <th>primary_diagnosis</th>\n",
       "      <th>expr_unstr_count</th>\n",
       "    </tr>\n",
       "  </thead>\n",
       "  <tbody>\n",
       "    <tr>\n",
       "      <th>0</th>\n",
       "      <td>5422a86d-f9ff-4fb6-873e-bf7cc3de50e5</td>\n",
       "      <td>Head and Neck</td>\n",
       "      <td>Primary Tumor</td>\n",
       "      <td>Tumor</td>\n",
       "      <td>Squamous cell carcinoma, NOS</td>\n",
       "      <td>[1666, 0, 1310, 663, 367, 598, 10862, 1930, 20...</td>\n",
       "    </tr>\n",
       "    <tr>\n",
       "      <th>1</th>\n",
       "      <td>2855bf40-e5e1-4519-b47a-327bfc275279</td>\n",
       "      <td>Head and Neck</td>\n",
       "      <td>Primary Tumor</td>\n",
       "      <td>Tumor</td>\n",
       "      <td>Squamous cell carcinoma, NOS</td>\n",
       "      <td>[1597, 1, 1467, 544, 365, 345, 1172, 1256, 620...</td>\n",
       "    </tr>\n",
       "    <tr>\n",
       "      <th>2</th>\n",
       "      <td>0fb3e5ff-54f0-43c5-9322-541bb7825e7f</td>\n",
       "      <td>Head and Neck</td>\n",
       "      <td>Primary Tumor</td>\n",
       "      <td>Tumor</td>\n",
       "      <td>Squamous cell carcinoma, NOS</td>\n",
       "      <td>[977, 35, 2057, 539, 247, 1997, 6023, 2071, 12...</td>\n",
       "    </tr>\n",
       "    <tr>\n",
       "      <th>3</th>\n",
       "      <td>3c5bc678-41e9-46b3-9686-5cd95659ab71</td>\n",
       "      <td>Head and Neck</td>\n",
       "      <td>Primary Tumor</td>\n",
       "      <td>Tumor</td>\n",
       "      <td>Squamous cell carcinoma, NOS</td>\n",
       "      <td>[5433, 0, 2240, 2600, 3159, 402, 4090, 849, 22...</td>\n",
       "    </tr>\n",
       "    <tr>\n",
       "      <th>4</th>\n",
       "      <td>50239d1d-b3a4-4240-ab83-b24ba67b1299</td>\n",
       "      <td>Head and Neck</td>\n",
       "      <td>Primary Tumor</td>\n",
       "      <td>Tumor</td>\n",
       "      <td>Squamous cell carcinoma, NOS</td>\n",
       "      <td>[1211, 0, 2168, 325, 320, 114, 2900, 2571, 153...</td>\n",
       "    </tr>\n",
       "  </tbody>\n",
       "</table>\n",
       "</div>"
      ],
      "text/plain": [
       "                                case_id   primary_site    sample_type  \\\n",
       "0  5422a86d-f9ff-4fb6-873e-bf7cc3de50e5  Head and Neck  Primary Tumor   \n",
       "1  2855bf40-e5e1-4519-b47a-327bfc275279  Head and Neck  Primary Tumor   \n",
       "2  0fb3e5ff-54f0-43c5-9322-541bb7825e7f  Head and Neck  Primary Tumor   \n",
       "3  3c5bc678-41e9-46b3-9686-5cd95659ab71  Head and Neck  Primary Tumor   \n",
       "4  50239d1d-b3a4-4240-ab83-b24ba67b1299  Head and Neck  Primary Tumor   \n",
       "\n",
       "  tissue_type             primary_diagnosis  \\\n",
       "0       Tumor  Squamous cell carcinoma, NOS   \n",
       "1       Tumor  Squamous cell carcinoma, NOS   \n",
       "2       Tumor  Squamous cell carcinoma, NOS   \n",
       "3       Tumor  Squamous cell carcinoma, NOS   \n",
       "4       Tumor  Squamous cell carcinoma, NOS   \n",
       "\n",
       "                                    expr_unstr_count  \n",
       "0  [1666, 0, 1310, 663, 367, 598, 10862, 1930, 20...  \n",
       "1  [1597, 1, 1467, 544, 365, 345, 1172, 1256, 620...  \n",
       "2  [977, 35, 2057, 539, 247, 1997, 6023, 2071, 12...  \n",
       "3  [5433, 0, 2240, 2600, 3159, 402, 4090, 849, 22...  \n",
       "4  [1211, 0, 2168, 325, 320, 114, 2900, 2571, 153...  "
      ]
     },
     "execution_count": 5,
     "metadata": {},
     "output_type": "execute_result"
    }
   ],
   "source": [
    "data_from_bq.head()"
   ]
  },
  {
   "cell_type": "markdown",
   "metadata": {},
   "source": [
    "## 2. Data Preprocessing for PyDeSeq and GSEA"
   ]
  },
  {
   "cell_type": "code",
   "execution_count": 18,
   "metadata": {},
   "outputs": [],
   "source": [
    "analysis_eng = analysis_engine.AnalysisEngine(data_from_bq, analysis_type='DE')\n",
    "if not analysis_eng.check_tumor_normal_counts():\n",
    "    raise ValueError(\"Tumor and Normal counts should be at least 10 each\")\n",
    "gene_ids_or_gene_cols_df = pd.read_csv('/Users/abhilashdhal/Projects/personal_docs/data/Transcriptomics/data/gene_annotation/gene_id_to_gene_name_mapping.csv')\n",
    "gene_ids_or_gene_cols = list(gene_ids_or_gene_cols_df['gene_id'].to_numpy())"
   ]
  },
  {
   "cell_type": "code",
   "execution_count": 19,
   "metadata": {},
   "outputs": [],
   "source": [
    "exp_df = analysis_eng.expand_data_from_bq(data_from_bq, gene_ids_or_gene_cols=gene_ids_or_gene_cols, analysis_type='DE')\n",
    "metadata = analysis_eng.metadata_for_pydeseq(exp_df=exp_df)\n",
    "counts_for_de = analysis_eng.counts_from_bq_df(exp_df, gene_ids_or_gene_cols)"
   ]
  },
  {
   "cell_type": "markdown",
   "metadata": {},
   "source": [
    "## 3. Run DESeq2 for the given Primary Diagnosis By Primary Site and the Normal Tissue for the Primary site"
   ]
  },
  {
   "cell_type": "code",
   "execution_count": 20,
   "metadata": {},
   "outputs": [
    {
     "name": "stdout",
     "output_type": "stream",
     "text": [
      "03/09//2024 12:30:1725303653 AM - INFO - PyDeSeqWrapper.run_deseq: Running DESeq2 for groups: {'group1': 'Tumor', 'group2': 'Normal'}\n",
      "03/09//2024 12:30:1725303653 AM - INFO - PyDeSeqWrapper.run_deseq: Running DESeq2  factor analysis with design factor: C and o\n",
      "03/09//2024 12:30:1725303653 AM - INFO - PyDeSeqWrapper.run_deseq: Statistical analysis of Tumor vs Normal in {'group1': 'Tumor', 'group2': 'Normal'}\n"
     ]
    },
    {
     "name": "stderr",
     "output_type": "stream",
     "text": [
      "Fitting size factors...\n",
      "... done in 0.42 seconds.\n",
      "\n",
      "I0000 00:00:1725303657.111200  712075 work_stealing_thread_pool.cc:320] WorkStealingThreadPoolImpl::PrepareFork\n",
      "I0000 00:00:1725303657.131892  712075 work_stealing_thread_pool.cc:320] WorkStealingThreadPoolImpl::PrepareFork\n",
      "I0000 00:00:1725303657.135921  712075 work_stealing_thread_pool.cc:320] WorkStealingThreadPoolImpl::PrepareFork\n",
      "I0000 00:00:1725303657.144212  712075 work_stealing_thread_pool.cc:320] WorkStealingThreadPoolImpl::PrepareFork\n",
      "I0000 00:00:1725303657.150960  712075 work_stealing_thread_pool.cc:320] WorkStealingThreadPoolImpl::PrepareFork\n",
      "I0000 00:00:1725303657.160985  712075 work_stealing_thread_pool.cc:320] WorkStealingThreadPoolImpl::PrepareFork\n",
      "I0000 00:00:1725303657.170410  712075 work_stealing_thread_pool.cc:320] WorkStealingThreadPoolImpl::PrepareFork\n",
      "I0000 00:00:1725303657.190287  712075 work_stealing_thread_pool.cc:320] WorkStealingThreadPoolImpl::PrepareFork\n",
      "I0000 00:00:1725303657.267184  712075 work_stealing_thread_pool.cc:320] WorkStealingThreadPoolImpl::PrepareFork\n",
      "I0000 00:00:1725303657.308012  712075 work_stealing_thread_pool.cc:320] WorkStealingThreadPoolImpl::PrepareFork\n",
      "Fitting dispersions...\n"
     ]
    }
   ],
   "source": [
    "res_pydeseq = analysis_eng.run_pydeseq(metadata=metadata, counts=counts_for_de)\n"
   ]
  },
  {
   "cell_type": "code",
   "execution_count": null,
   "metadata": {},
   "outputs": [],
   "source": [
    "res_pydeseq_with_gene_names = pd.merge(res_pydeseq, gene_ids_or_gene_cols_df, left_on='index', right_on='gene_id')"
   ]
  },
  {
   "cell_type": "markdown",
   "metadata": {},
   "source": [
    "## 4. Run GSEA for the given Primary Diagnosis By Primary Site and the Normal Tissue for the Primary site using a gene set database"
   ]
  },
  {
   "cell_type": "code",
   "execution_count": null,
   "metadata": {},
   "outputs": [],
   "source": [
    "gene_set \n",
    "result, plot = analysis_eng.run_gsea(res_pydeseq, gene_set)"
   ]
  },
  {
   "cell_type": "code",
   "execution_count": null,
   "metadata": {},
   "outputs": [],
   "source": [
    "# import src.ClassicML.DGE.pydeseq_utils as pydeseq_utils\n",
    "# import pandas as pd\n",
    "# from gseapy.plot import gseaplot\n",
    "# import gseapy as gp\n",
    "# import numpy as np\n",
    "# import matplotlib.pyplot as plt\n",
    "# from gseapy import dotplot\n",
    "# ## Preprocess the data\n",
    "# ## Load the count data saved from example 1.\n",
    "# rna_seq_DGE_data  = pd.read_csv('./de_gsea_data/kidney_unstr_tumor_normal.csv')\n",
    "# unique_data_by_case_id =  rna_seq_DGE_data.drop_duplicates(['case_id']).reset_index(drop=True)\n",
    "# kidney_cancer_count_data = unique_data_by_case_id.iloc[:, :60660].T\n",
    "# counts = kidney_cancer_count_data.copy().reset_index()\n",
    "# counts = counts.set_index('index')\n",
    "# counts = counts.T\n",
    "# counts = pd.concat([unique_data_by_case_id[['case_id']], counts],axis=1)\n",
    "\n",
    "# ## Run DE analysis\n",
    "# pydeseq_obj = pydeseq_utils.PyDeSeqWrapper(count_matrix=counts, metadata=metadata, design_factors='Condition', groups = {'group1':'Tumor', 'group2':'Normal'})\n",
    "# design_factor = 'Condition'\n",
    "# result = pydeseq_obj.run_deseq(design_factor=design_factor, group1 = 'Tumor', group2 = 'Normal')\n",
    "\n",
    "# ## Prepare the data for GSEA\n",
    "# results_df = result.results_df\n",
    "# results_df_filtered = results_df.dropna()\n",
    "# results_df_filtered = results_df_filtered.reset_index()\n",
    "# results_df_filtered['nlog10'] = -1*np.log10(results_df_filtered.padj)\n",
    "\n",
    "# ## Create ranking for GSEA\n",
    "# df = results_df_filtered.copy()\n",
    "# df['Rank'] = -np.log10(df.padj)*df.log2FoldChange\n",
    "# df = df.sort_values('Rank', ascending = False).reset_index(drop = True)\n",
    "# ranking = df[['Gene', 'Rank']]\n",
    "# pre_res = gp.prerank(rnk = ranking, gene_sets = 'RNA-Seq_Disease_Gene_and_Drug_Signatures_from_GEO', seed = 6, permutation_num = 100)\n",
    "\n",
    "# ## Plot the GSEA results\n",
    "# out = []\n",
    "# for term in list(pre_res.results):\n",
    "#     out.append([term,\n",
    "#             pre_res.results[term]['fdr'],\n",
    "#             pre_res.results[term]['es'],\n",
    "#             pre_res.results[term]['nes']])\n",
    "\n",
    "# out_df = pd.DataFrame(out, columns = ['Term','fdr', 'es', 'nes']).sort_values('fdr').reset_index(drop = True)\n",
    "# terms = pre_res.res2d.Term\n",
    "# axs = pre_res.plot(terms=terms[1])\n",
    "\n",
    "# # Create dotplot of most enrichment terms from Gene Set\n",
    "# ax = dotplot(pre_res.res2d,\n",
    "#             column=\"FDR q-val\",\n",
    "#             title='KEGG_2016',\n",
    "#             cmap=plt.cm.viridis,\n",
    "#             size=6, # adjust dot size\n",
    "#             figsize=(4,5), cutoff=0.25, show_ring=False)"
   ]
  }
 ],
 "metadata": {
  "kernelspec": {
   "display_name": "omixhub",
   "language": "python",
   "name": "python3"
  },
  "language_info": {
   "codemirror_mode": {
    "name": "ipython",
    "version": 3
   },
   "file_extension": ".py",
   "mimetype": "text/x-python",
   "name": "python",
   "nbconvert_exporter": "python",
   "pygments_lexer": "ipython3",
   "version": "3.11.6"
  }
 },
 "nbformat": 4,
 "nbformat_minor": 2
}
