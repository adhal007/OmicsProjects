{
 "cells": [
  {
   "cell_type": "markdown",
   "metadata": {},
   "source": [
    "## Template for creating RNA-Seq Data Matrix for different Primary sites"
   ]
  },
  {
   "cell_type": "code",
   "execution_count": 1,
   "metadata": {},
   "outputs": [
    {
     "name": "stdout",
     "output_type": "stream",
     "text": [
      "/Users/abhilashdhal/Projects\n"
     ]
    },
    {
     "data": {
      "text/plain": [
       "<module 'src.Engines.gdc_engine' from '/Users/abhilashdhal/Projects/src/Engines/gdc_engine.py'>"
      ]
     },
     "execution_count": 1,
     "metadata": {},
     "output_type": "execute_result"
    }
   ],
   "source": [
    "%cd '/Users/abhilashdhal/Projects/'\n",
    "\n",
    "import grequests\n",
    "import pandas as pd\n",
    "import numpy as np\n",
    "import src.Engines.gdc_engine as gdc_engine\n",
    "import os\n",
    "from importlib import reload\n",
    "from flatten_json import flatten\n",
    "from tqdm import tqdm \n",
    "\n",
    "\n",
    "reload(gdc_engine)"
   ]
  },
  {
   "cell_type": "markdown",
   "metadata": {},
   "source": [
    "## 0.1. Get Metadata"
   ]
  },
  {
   "cell_type": "code",
   "execution_count": 2,
   "metadata": {},
   "outputs": [
    {
     "name": "stdout",
     "output_type": "stream",
     "text": [
      "dict_keys(['files.experimental_strategy', 'data_type'])\n",
      "file_id,file_name,experimental_strategy,data_type,platform,cases.case_id,cases.diagnoses.last_known_disease_status,cases.diagnoses.primary_diagnosis,cases.diagnoses.tumor_stage,cases.diagnoses.tumor_grade,cases.diagnoses.treatments.treatment_or_therapy,cases.diagnoses.days_to_last_follow_up,cases.diagnoses.age_at_diagnosis,cases.diagnoses.days_to_death,cases.project.primary_site,analysis.workflow_type,cases.demographic.ethnicity,cases.demographic.gender,cases.demographic.race,cases.diagnoses.tissue_or_organ_of_origin,cases.exposures.bmi,cases.exposures.alcohol_history,cases.exposures.years_smoked,cases.samples.tissue_type,cases.samples.sample_type\n"
     ]
    }
   ],
   "source": [
    "\n",
    "params = {\n",
    "    'files.experimental_strategy': 'RNA-Seq', \n",
    "    'data_type': 'Gene Expression Quantification'\n",
    "}\n",
    "\n",
    "gdc_eng_inst = gdc_engine.GDCEngine(**params)\n",
    "rna_seq_metadata = gdc_eng_inst._get_rna_seq_metadata()\n",
    "meta = rna_seq_metadata['metadata']\n",
    "\n"
   ]
  },
  {
   "cell_type": "markdown",
   "metadata": {},
   "source": [
    "## 0.2. Print the count of tumor lables across primary_sites descending by most counts"
   ]
  },
  {
   "cell_type": "code",
   "execution_count": 3,
   "metadata": {},
   "outputs": [
    {
     "data": {
      "text/html": [
       "<div>\n",
       "<style scoped>\n",
       "    .dataframe tbody tr th:only-of-type {\n",
       "        vertical-align: middle;\n",
       "    }\n",
       "\n",
       "    .dataframe tbody tr th {\n",
       "        vertical-align: top;\n",
       "    }\n",
       "\n",
       "    .dataframe thead th {\n",
       "        text-align: right;\n",
       "    }\n",
       "</style>\n",
       "<table border=\"1\" class=\"dataframe\">\n",
       "  <thead>\n",
       "    <tr style=\"text-align: right;\">\n",
       "      <th></th>\n",
       "      <th>primary_site</th>\n",
       "      <th>count</th>\n",
       "    </tr>\n",
       "  </thead>\n",
       "  <tbody>\n",
       "    <tr>\n",
       "      <th>0</th>\n",
       "      <td>Blood</td>\n",
       "      <td>355</td>\n",
       "    </tr>\n",
       "    <tr>\n",
       "      <th>1</th>\n",
       "      <td>Kidney</td>\n",
       "      <td>141</td>\n",
       "    </tr>\n",
       "    <tr>\n",
       "      <th>2</th>\n",
       "      <td>Breast</td>\n",
       "      <td>113</td>\n",
       "    </tr>\n",
       "    <tr>\n",
       "      <th>3</th>\n",
       "      <td>Lung</td>\n",
       "      <td>110</td>\n",
       "    </tr>\n",
       "    <tr>\n",
       "      <th>4</th>\n",
       "      <td>Thyroid</td>\n",
       "      <td>59</td>\n",
       "    </tr>\n",
       "    <tr>\n",
       "      <th>5</th>\n",
       "      <td>Prostate</td>\n",
       "      <td>52</td>\n",
       "    </tr>\n",
       "    <tr>\n",
       "      <th>6</th>\n",
       "      <td>Colorectal</td>\n",
       "      <td>51</td>\n",
       "    </tr>\n",
       "    <tr>\n",
       "      <th>7</th>\n",
       "      <td>Liver</td>\n",
       "      <td>50</td>\n",
       "    </tr>\n",
       "    <tr>\n",
       "      <th>8</th>\n",
       "      <td>Head and Neck</td>\n",
       "      <td>44</td>\n",
       "    </tr>\n",
       "    <tr>\n",
       "      <th>9</th>\n",
       "      <td>Stomach</td>\n",
       "      <td>36</td>\n",
       "    </tr>\n",
       "    <tr>\n",
       "      <th>10</th>\n",
       "      <td>Uterus</td>\n",
       "      <td>23</td>\n",
       "    </tr>\n",
       "    <tr>\n",
       "      <th>11</th>\n",
       "      <td>Bladder</td>\n",
       "      <td>19</td>\n",
       "    </tr>\n",
       "    <tr>\n",
       "      <th>12</th>\n",
       "      <td>Esophagus</td>\n",
       "      <td>13</td>\n",
       "    </tr>\n",
       "    <tr>\n",
       "      <th>13</th>\n",
       "      <td>Lymph Nodes</td>\n",
       "      <td>12</td>\n",
       "    </tr>\n",
       "    <tr>\n",
       "      <th>14</th>\n",
       "      <td>Bile Duct</td>\n",
       "      <td>9</td>\n",
       "    </tr>\n",
       "    <tr>\n",
       "      <th>15</th>\n",
       "      <td>Pancreas</td>\n",
       "      <td>4</td>\n",
       "    </tr>\n",
       "    <tr>\n",
       "      <th>16</th>\n",
       "      <td>Cervix</td>\n",
       "      <td>3</td>\n",
       "    </tr>\n",
       "    <tr>\n",
       "      <th>17</th>\n",
       "      <td>Adrenal Gland</td>\n",
       "      <td>3</td>\n",
       "    </tr>\n",
       "    <tr>\n",
       "      <th>18</th>\n",
       "      <td>Soft Tissue</td>\n",
       "      <td>2</td>\n",
       "    </tr>\n",
       "    <tr>\n",
       "      <th>19</th>\n",
       "      <td>Thymus</td>\n",
       "      <td>2</td>\n",
       "    </tr>\n",
       "    <tr>\n",
       "      <th>20</th>\n",
       "      <td>Skin</td>\n",
       "      <td>1</td>\n",
       "    </tr>\n",
       "  </tbody>\n",
       "</table>\n",
       "</div>"
      ],
      "text/plain": [
       "     primary_site  count\n",
       "0           Blood    355\n",
       "1          Kidney    141\n",
       "2          Breast    113\n",
       "3            Lung    110\n",
       "4         Thyroid     59\n",
       "5        Prostate     52\n",
       "6      Colorectal     51\n",
       "7           Liver     50\n",
       "8   Head and Neck     44\n",
       "9         Stomach     36\n",
       "10         Uterus     23\n",
       "11        Bladder     19\n",
       "12      Esophagus     13\n",
       "13    Lymph Nodes     12\n",
       "14      Bile Duct      9\n",
       "15       Pancreas      4\n",
       "16         Cervix      3\n",
       "17  Adrenal Gland      3\n",
       "18    Soft Tissue      2\n",
       "19         Thymus      2\n",
       "20           Skin      1"
      ]
     },
     "execution_count": 3,
     "metadata": {},
     "output_type": "execute_result"
    }
   ],
   "source": [
    "count_df = meta[meta['tissue_type'] != 'Tumor']['primary_site'].value_counts().reset_index()\n",
    "count_df"
   ]
  },
  {
   "cell_type": "markdown",
   "metadata": {},
   "source": [
    "## 0.3. Create DGE dataset for primary_site kidney"
   ]
  },
  {
   "cell_type": "code",
   "execution_count": 4,
   "metadata": {},
   "outputs": [
    {
     "name": "stdout",
     "output_type": "stream",
     "text": [
      "dict_keys(['files.experimental_strategy', 'data_type'])\n",
      "file_id,file_name,experimental_strategy,data_type,platform,cases.case_id,cases.diagnoses.last_known_disease_status,cases.diagnoses.primary_diagnosis,cases.diagnoses.tumor_stage,cases.diagnoses.tumor_grade,cases.diagnoses.treatments.treatment_or_therapy,cases.diagnoses.days_to_last_follow_up,cases.diagnoses.age_at_diagnosis,cases.diagnoses.days_to_death,cases.project.primary_site,analysis.workflow_type,cases.demographic.ethnicity,cases.demographic.gender,cases.demographic.race,cases.diagnoses.tissue_or_organ_of_origin,cases.exposures.bmi,cases.exposures.alcohol_history,cases.exposures.years_smoked,cases.samples.tissue_type,cases.samples.sample_type\n"
     ]
    },
    {
     "name": "stderr",
     "output_type": "stream",
     "text": [
      "100%|██████████| 50/50 [00:00<00:00, 79.55it/s]\n",
      "100%|██████████| 50/50 [00:00<00:00, 96.12it/s]\n",
      "100%|██████████| 50/50 [00:00<00:00, 89.38it/s]\n",
      "100%|██████████| 50/50 [00:00<00:00, 90.03it/s]\n",
      "100%|██████████| 50/50 [00:00<00:00, 77.31it/s]\n",
      "100%|██████████| 50/50 [00:00<00:00, 82.56it/s]\n",
      "100%|██████████| 50/50 [00:00<00:00, 78.57it/s]\n",
      "100%|██████████| 50/50 [00:00<00:00, 77.12it/s]\n",
      "100%|██████████| 50/50 [00:00<00:00, 87.13it/s]\n",
      "100%|██████████| 50/50 [00:00<00:00, 84.75it/s]\n",
      "100%|██████████| 50/50 [00:00<00:00, 64.90it/s]\n",
      "100%|██████████| 50/50 [00:00<00:00, 83.17it/s]\n",
      "100%|██████████| 50/50 [00:00<00:00, 78.02it/s]\n",
      "100%|██████████| 50/50 [00:00<00:00, 90.93it/s]\n",
      "100%|██████████| 50/50 [00:00<00:00, 101.53it/s]\n",
      "100%|██████████| 50/50 [00:00<00:00, 78.93it/s]\n",
      "100%|██████████| 50/50 [00:00<00:00, 96.04it/s]\n",
      "100%|██████████| 50/50 [00:00<00:00, 99.68it/s]\n",
      "100%|██████████| 50/50 [00:00<00:00, 90.21it/s]\n",
      " 79%|███████▉  | 19/24 [04:46<01:11, 14.39s/it]"
     ]
    }
   ],
   "source": [
    "rna_seq_DGE_data = gdc_eng_inst.run_rna_seq_data_matrix_creation(primary_site='Kidney', downstream_analysis='DE')"
   ]
  },
  {
   "cell_type": "code",
   "execution_count": null,
   "metadata": {},
   "outputs": [],
   "source": []
  }
 ],
 "metadata": {
  "kernelspec": {
   "display_name": "gdclone",
   "language": "python",
   "name": "python3"
  },
  "language_info": {
   "codemirror_mode": {
    "name": "ipython",
    "version": 3
   },
   "file_extension": ".py",
   "mimetype": "text/x-python",
   "name": "python",
   "nbconvert_exporter": "python",
   "pygments_lexer": "ipython3",
   "version": "3.11.6"
  }
 },
 "nbformat": 4,
 "nbformat_minor": 2
}
