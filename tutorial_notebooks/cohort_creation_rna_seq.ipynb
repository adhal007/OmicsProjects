{
 "cells": [
  {
   "cell_type": "markdown",
   "metadata": {},
   "source": [
    "## Template for creating RNA-Seq Data Matrix for different Primary sites"
   ]
  },
  {
   "cell_type": "code",
   "execution_count": 7,
   "metadata": {},
   "outputs": [
    {
     "name": "stdout",
     "output_type": "stream",
     "text": [
      "/Users/abhilashdhal/Projects\n"
     ]
    },
    {
     "data": {
      "text/plain": [
       "<module 'src.Engines.gdc_engine' from '/Users/abhilashdhal/Projects/src/Engines/gdc_engine.py'>"
      ]
     },
     "execution_count": 7,
     "metadata": {},
     "output_type": "execute_result"
    }
   ],
   "source": [
    "%cd '/Users/abhilashdhal/Projects/'\n",
    "\n",
    "import grequests\n",
    "import pandas as pd\n",
    "import numpy as np\n",
    "import src.Engines.gdc_engine as gdc_engine\n",
    "import os\n",
    "from importlib import reload\n",
    "from flatten_json import flatten\n",
    "from tqdm import tqdm \n",
    "\n",
    "\n",
    "reload(gdc_engine)"
   ]
  },
  {
   "cell_type": "markdown",
   "metadata": {},
   "source": [
    "## 0.1. Get Metadata"
   ]
  },
  {
   "cell_type": "code",
   "execution_count": 3,
   "metadata": {},
   "outputs": [
    {
     "name": "stdout",
     "output_type": "stream",
     "text": [
      "dict_keys(['files.experimental_strategy', 'data_type'])\n",
      "file_id,file_name,experimental_strategy,data_type,platform,cases.case_id,cases.diagnoses.last_known_disease_status,cases.diagnoses.primary_diagnosis,cases.diagnoses.tumor_stage,cases.diagnoses.tumor_grade,cases.diagnoses.treatments.treatment_or_therapy,cases.diagnoses.days_to_last_follow_up,cases.diagnoses.age_at_diagnosis,cases.diagnoses.days_to_death,cases.project.primary_site,analysis.workflow_type,cases.demographic.ethnicity,cases.demographic.gender,cases.demographic.race,cases.diagnoses.tissue_or_organ_of_origin,cases.exposures.bmi,cases.exposures.alcohol_history,cases.exposures.years_smoked,cases.samples.tissue_type,cases.samples.sample_type\n"
     ]
    }
   ],
   "source": [
    "\n",
    "params = {\n",
    "    'files.experimental_strategy': 'RNA-Seq', \n",
    "    'data_type': 'Gene Expression Quantification'\n",
    "}\n",
    "\n",
    "gdc_eng_inst = gdc_engine.GDCEngine(**params)\n",
    "rna_seq_metadata = gdc_eng_inst._get_rna_seq_metadata()\n",
    "meta = rna_seq_metadata['metadata']\n",
    "\n"
   ]
  },
  {
   "cell_type": "markdown",
   "metadata": {},
   "source": [
    "## 0.2. Print the count of primary_sites descending by most counts"
   ]
  },
  {
   "cell_type": "code",
   "execution_count": 50,
   "metadata": {},
   "outputs": [
    {
     "data": {
      "text/html": [
       "<div>\n",
       "<style scoped>\n",
       "    .dataframe tbody tr th:only-of-type {\n",
       "        vertical-align: middle;\n",
       "    }\n",
       "\n",
       "    .dataframe tbody tr th {\n",
       "        vertical-align: top;\n",
       "    }\n",
       "\n",
       "    .dataframe thead th {\n",
       "        text-align: right;\n",
       "    }\n",
       "</style>\n",
       "<table border=\"1\" class=\"dataframe\">\n",
       "  <thead>\n",
       "    <tr style=\"text-align: right;\">\n",
       "      <th></th>\n",
       "      <th>id</th>\n",
       "      <th>case_id</th>\n",
       "      <th>alcohol_history</th>\n",
       "      <th>years_smoked</th>\n",
       "      <th>tissue_or_organ_of_origin</th>\n",
       "      <th>days_to_last_follow_up</th>\n",
       "      <th>age_at_diagnosis</th>\n",
       "      <th>primary_diagnosis</th>\n",
       "      <th>primary_site</th>\n",
       "      <th>tumor_grade</th>\n",
       "      <th>...</th>\n",
       "      <th>tissue_type</th>\n",
       "      <th>sample_type</th>\n",
       "      <th>race</th>\n",
       "      <th>gender</th>\n",
       "      <th>ethnicity</th>\n",
       "      <th>file_name</th>\n",
       "      <th>file_id</th>\n",
       "      <th>data_type</th>\n",
       "      <th>workflow_type</th>\n",
       "      <th>experimental_strategy</th>\n",
       "    </tr>\n",
       "  </thead>\n",
       "  <tbody>\n",
       "    <tr>\n",
       "      <th>0</th>\n",
       "      <td>26e28409-2493-4bd8-86f5-dc7b85846081</td>\n",
       "      <td>9097285b-eeb1-4f36-a0ab-0d0592043792</td>\n",
       "      <td>None</td>\n",
       "      <td>NaN</td>\n",
       "      <td>Esophagus, NOS</td>\n",
       "      <td>NaN</td>\n",
       "      <td>28226.0</td>\n",
       "      <td>Adenocarcinoma, NOS</td>\n",
       "      <td>None</td>\n",
       "      <td>None</td>\n",
       "      <td>...</td>\n",
       "      <td>Tumor</td>\n",
       "      <td>Next Generation Cancer Model</td>\n",
       "      <td>white</td>\n",
       "      <td>male</td>\n",
       "      <td>not hispanic or latino</td>\n",
       "      <td>b231e28d-7a0f-41ea-864c-69accc514428.rna_seq.a...</td>\n",
       "      <td>26e28409-2493-4bd8-86f5-dc7b85846081</td>\n",
       "      <td>Gene Expression Quantification</td>\n",
       "      <td>STAR - Counts</td>\n",
       "      <td>RNA-Seq</td>\n",
       "    </tr>\n",
       "    <tr>\n",
       "      <th>1</th>\n",
       "      <td>6abbf9ed-e3bd-489e-a67f-2624d427c81a</td>\n",
       "      <td>653a556f-c127-421d-8118-4bf98929fe53</td>\n",
       "      <td>None</td>\n",
       "      <td>NaN</td>\n",
       "      <td>Not Reported</td>\n",
       "      <td>NaN</td>\n",
       "      <td>NaN</td>\n",
       "      <td>Intraductal papillary-mucinous carcinoma, inva...</td>\n",
       "      <td>None</td>\n",
       "      <td>None</td>\n",
       "      <td>...</td>\n",
       "      <td>Tumor</td>\n",
       "      <td>Primary Tumor</td>\n",
       "      <td>not reported</td>\n",
       "      <td>male</td>\n",
       "      <td>not reported</td>\n",
       "      <td>70f93c7b-27fa-47e4-a602-106bc35732d6.rna_seq.a...</td>\n",
       "      <td>6abbf9ed-e3bd-489e-a67f-2624d427c81a</td>\n",
       "      <td>Gene Expression Quantification</td>\n",
       "      <td>STAR - Counts</td>\n",
       "      <td>RNA-Seq</td>\n",
       "    </tr>\n",
       "    <tr>\n",
       "      <th>2</th>\n",
       "      <td>1b378dce-6ab0-436a-95cd-0a70774c4766</td>\n",
       "      <td>10e69494-3ce2-4c13-ab1b-6fc0e6b14853</td>\n",
       "      <td>None</td>\n",
       "      <td>NaN</td>\n",
       "      <td>Esophagus, NOS</td>\n",
       "      <td>NaN</td>\n",
       "      <td>NaN</td>\n",
       "      <td>Adenocarcinoma, NOS</td>\n",
       "      <td>None</td>\n",
       "      <td>G3</td>\n",
       "      <td>...</td>\n",
       "      <td>Tumor</td>\n",
       "      <td>Next Generation Cancer Model</td>\n",
       "      <td>Unknown</td>\n",
       "      <td>male</td>\n",
       "      <td>Unknown</td>\n",
       "      <td>b6e57b66-57fa-4a30-941e-86a5686ef4c4.rna_seq.a...</td>\n",
       "      <td>1b378dce-6ab0-436a-95cd-0a70774c4766</td>\n",
       "      <td>Gene Expression Quantification</td>\n",
       "      <td>STAR - Counts</td>\n",
       "      <td>RNA-Seq</td>\n",
       "    </tr>\n",
       "    <tr>\n",
       "      <th>3</th>\n",
       "      <td>842f9343-e55f-4db8-aa45-7540b1bc9f1c</td>\n",
       "      <td>653a556f-c127-421d-8118-4bf98929fe53</td>\n",
       "      <td>None</td>\n",
       "      <td>NaN</td>\n",
       "      <td>Not Reported</td>\n",
       "      <td>NaN</td>\n",
       "      <td>NaN</td>\n",
       "      <td>Intraductal papillary-mucinous carcinoma, inva...</td>\n",
       "      <td>None</td>\n",
       "      <td>None</td>\n",
       "      <td>...</td>\n",
       "      <td>Tumor</td>\n",
       "      <td>Metastatic</td>\n",
       "      <td>not reported</td>\n",
       "      <td>male</td>\n",
       "      <td>not reported</td>\n",
       "      <td>1bf7dccb-5d75-4ab8-951f-6ee263aa1b48.rna_seq.a...</td>\n",
       "      <td>842f9343-e55f-4db8-aa45-7540b1bc9f1c</td>\n",
       "      <td>Gene Expression Quantification</td>\n",
       "      <td>STAR - Counts</td>\n",
       "      <td>RNA-Seq</td>\n",
       "    </tr>\n",
       "    <tr>\n",
       "      <th>4</th>\n",
       "      <td>1a2bf971-f722-403d-aa30-4882c164a300</td>\n",
       "      <td>8d169383-a8af-4450-a837-01da35fb72c5</td>\n",
       "      <td>None</td>\n",
       "      <td>NaN</td>\n",
       "      <td>Rectum, NOS</td>\n",
       "      <td>NaN</td>\n",
       "      <td>20434.0</td>\n",
       "      <td>Mucinous adenocarcinoma</td>\n",
       "      <td>None</td>\n",
       "      <td>GX</td>\n",
       "      <td>...</td>\n",
       "      <td>Tumor</td>\n",
       "      <td>Primary Tumor</td>\n",
       "      <td>white</td>\n",
       "      <td>male</td>\n",
       "      <td>not hispanic or latino</td>\n",
       "      <td>7836ae1b-35ea-4273-b9ed-2bb72f1b3d06.rna_seq.a...</td>\n",
       "      <td>1a2bf971-f722-403d-aa30-4882c164a300</td>\n",
       "      <td>Gene Expression Quantification</td>\n",
       "      <td>STAR - Counts</td>\n",
       "      <td>RNA-Seq</td>\n",
       "    </tr>\n",
       "  </tbody>\n",
       "</table>\n",
       "<p>5 rows × 22 columns</p>\n",
       "</div>"
      ],
      "text/plain": [
       "                                     id                               case_id  \\\n",
       "0  26e28409-2493-4bd8-86f5-dc7b85846081  9097285b-eeb1-4f36-a0ab-0d0592043792   \n",
       "1  6abbf9ed-e3bd-489e-a67f-2624d427c81a  653a556f-c127-421d-8118-4bf98929fe53   \n",
       "2  1b378dce-6ab0-436a-95cd-0a70774c4766  10e69494-3ce2-4c13-ab1b-6fc0e6b14853   \n",
       "3  842f9343-e55f-4db8-aa45-7540b1bc9f1c  653a556f-c127-421d-8118-4bf98929fe53   \n",
       "4  1a2bf971-f722-403d-aa30-4882c164a300  8d169383-a8af-4450-a837-01da35fb72c5   \n",
       "\n",
       "  alcohol_history  years_smoked tissue_or_organ_of_origin  \\\n",
       "0            None           NaN            Esophagus, NOS   \n",
       "1            None           NaN              Not Reported   \n",
       "2            None           NaN            Esophagus, NOS   \n",
       "3            None           NaN              Not Reported   \n",
       "4            None           NaN               Rectum, NOS   \n",
       "\n",
       "   days_to_last_follow_up  age_at_diagnosis  \\\n",
       "0                     NaN           28226.0   \n",
       "1                     NaN               NaN   \n",
       "2                     NaN               NaN   \n",
       "3                     NaN               NaN   \n",
       "4                     NaN           20434.0   \n",
       "\n",
       "                                   primary_diagnosis primary_site tumor_grade  \\\n",
       "0                                Adenocarcinoma, NOS         None        None   \n",
       "1  Intraductal papillary-mucinous carcinoma, inva...         None        None   \n",
       "2                                Adenocarcinoma, NOS         None          G3   \n",
       "3  Intraductal papillary-mucinous carcinoma, inva...         None        None   \n",
       "4                            Mucinous adenocarcinoma         None          GX   \n",
       "\n",
       "   ... tissue_type                   sample_type          race gender  \\\n",
       "0  ...       Tumor  Next Generation Cancer Model         white   male   \n",
       "1  ...       Tumor                 Primary Tumor  not reported   male   \n",
       "2  ...       Tumor  Next Generation Cancer Model       Unknown   male   \n",
       "3  ...       Tumor                    Metastatic  not reported   male   \n",
       "4  ...       Tumor                 Primary Tumor         white   male   \n",
       "\n",
       "                ethnicity                                          file_name  \\\n",
       "0  not hispanic or latino  b231e28d-7a0f-41ea-864c-69accc514428.rna_seq.a...   \n",
       "1            not reported  70f93c7b-27fa-47e4-a602-106bc35732d6.rna_seq.a...   \n",
       "2                 Unknown  b6e57b66-57fa-4a30-941e-86a5686ef4c4.rna_seq.a...   \n",
       "3            not reported  1bf7dccb-5d75-4ab8-951f-6ee263aa1b48.rna_seq.a...   \n",
       "4  not hispanic or latino  7836ae1b-35ea-4273-b9ed-2bb72f1b3d06.rna_seq.a...   \n",
       "\n",
       "                                file_id                       data_type  \\\n",
       "0  26e28409-2493-4bd8-86f5-dc7b85846081  Gene Expression Quantification   \n",
       "1  6abbf9ed-e3bd-489e-a67f-2624d427c81a  Gene Expression Quantification   \n",
       "2  1b378dce-6ab0-436a-95cd-0a70774c4766  Gene Expression Quantification   \n",
       "3  842f9343-e55f-4db8-aa45-7540b1bc9f1c  Gene Expression Quantification   \n",
       "4  1a2bf971-f722-403d-aa30-4882c164a300  Gene Expression Quantification   \n",
       "\n",
       "   workflow_type experimental_strategy  \n",
       "0  STAR - Counts               RNA-Seq  \n",
       "1  STAR - Counts               RNA-Seq  \n",
       "2  STAR - Counts               RNA-Seq  \n",
       "3  STAR - Counts               RNA-Seq  \n",
       "4  STAR - Counts               RNA-Seq  \n",
       "\n",
       "[5 rows x 22 columns]"
      ]
     },
     "execution_count": 50,
     "metadata": {},
     "output_type": "execute_result"
    }
   ],
   "source": [
    "meta.head(5)"
   ]
  },
  {
   "cell_type": "code",
   "execution_count": 42,
   "metadata": {},
   "outputs": [],
   "source": [
    "count_df = meta[meta['tissue_type'] != 'Tumor']['primary_site'].value_counts().reset_index()"
   ]
  },
  {
   "cell_type": "code",
   "execution_count": 44,
   "metadata": {},
   "outputs": [
    {
     "data": {
      "text/plain": [
       "['Blood',\n",
       " 'Kidney',\n",
       " 'Breast',\n",
       " 'Lung',\n",
       " 'Thyroid',\n",
       " 'Prostate',\n",
       " 'Colorectal',\n",
       " 'Liver',\n",
       " 'Head and Neck',\n",
       " 'Stomach',\n",
       " 'Uterus',\n",
       " 'Bladder',\n",
       " 'Esophagus',\n",
       " 'Lymph Nodes',\n",
       " 'Bile Duct',\n",
       " 'Pancreas',\n",
       " 'Cervix',\n",
       " 'Adrenal Gland',\n",
       " 'Soft Tissue',\n",
       " 'Thymus',\n",
       " 'Skin']"
      ]
     },
     "execution_count": 44,
     "metadata": {},
     "output_type": "execute_result"
    }
   ],
   "source": [
    "list(count_df['primary_site'])"
   ]
  },
  {
   "cell_type": "code",
   "execution_count": 8,
   "metadata": {},
   "outputs": [],
   "source": [
    "meta.to_csv('./de_gsea_data/metadata/all_metadata_rna_seq.csv') "
   ]
  },
  {
   "cell_type": "markdown",
   "metadata": {},
   "source": [
    "## 0.3. Choose a primary site to create the data set or Run it on all datasets"
   ]
  },
  {
   "cell_type": "code",
   "execution_count": 8,
   "metadata": {},
   "outputs": [
    {
     "name": "stdout",
     "output_type": "stream",
     "text": [
      "dict_keys(['files.experimental_strategy', 'data_type'])\n",
      "file_id,file_name,experimental_strategy,data_type,platform,cases.case_id,cases.diagnoses.last_known_disease_status,cases.diagnoses.primary_diagnosis,cases.diagnoses.tumor_stage,cases.diagnoses.tumor_grade,cases.diagnoses.treatments.treatment_or_therapy,cases.diagnoses.days_to_last_follow_up,cases.diagnoses.age_at_diagnosis,cases.diagnoses.days_to_death,cases.project.primary_site,analysis.workflow_type,cases.demographic.ethnicity,cases.demographic.gender,cases.demographic.race,cases.diagnoses.tissue_or_organ_of_origin,cases.exposures.bmi,cases.exposures.alcohol_history,cases.exposures.years_smoked,cases.samples.tissue_type,cases.samples.sample_type\n"
     ]
    },
    {
     "name": "stderr",
     "output_type": "stream",
     "text": [
      "100%|██████████| 50/50 [00:00<00:00, 79.31it/s]\n",
      "100%|██████████| 1/1 [00:14<00:00, 14.01s/it]\n"
     ]
    }
   ],
   "source": [
    "primary_site = 'Bone'\n",
    "df = gdc_eng_inst.run_rna_seq_data_matrix_creation(primary_site=primary_site,downstream_analysis='DE')"
   ]
  },
  {
   "cell_type": "code",
   "execution_count": null,
   "metadata": {},
   "outputs": [],
   "source": [
    "df = df.set_index('file_id')\n",
    "df = df.reset_index()"
   ]
  },
  {
   "cell_type": "code",
   "execution_count": 37,
   "metadata": {},
   "outputs": [],
   "source": [
    "gene_cols = df.columns.to_numpy()[1:60661] \n",
    "df['expr_unstr_count'] = df[np.sort(gene_cols)].agg(list, axis=1)\n",
    "df_unq = df.drop_duplicates(['case_id']).reset_index(drop=True)\n",
    "data_for_bq = df_unq[['case_id', 'file_id', 'expr_unstr_count', 'tissue_type', 'sample_type', 'primary_site']]"
   ]
  },
  {
   "cell_type": "code",
   "execution_count": 47,
   "metadata": {},
   "outputs": [],
   "source": [
    "cohort_metadata = gdc_eng_inst._get_rna_seq_metadata()\n",
    "cohort_metadata = cohort_metadata['metadata']\n",
    "data_bq_with_labels = pd.merge(data_for_bq, cohort_metadata['metadata'][['file_id', 'case_id', 'tissue_or_organ_of_origin', 'age_at_diagnosis', 'primary_diagnosis', 'race', 'gender']], on=['file_id', 'case_id'])"
   ]
  },
  {
   "cell_type": "code",
   "execution_count": 49,
   "metadata": {},
   "outputs": [
    {
     "data": {
      "text/html": [
       "<div>\n",
       "<style scoped>\n",
       "    .dataframe tbody tr th:only-of-type {\n",
       "        vertical-align: middle;\n",
       "    }\n",
       "\n",
       "    .dataframe tbody tr th {\n",
       "        vertical-align: top;\n",
       "    }\n",
       "\n",
       "    .dataframe thead th {\n",
       "        text-align: right;\n",
       "    }\n",
       "</style>\n",
       "<table border=\"1\" class=\"dataframe\">\n",
       "  <thead>\n",
       "    <tr style=\"text-align: right;\">\n",
       "      <th></th>\n",
       "      <th>case_id</th>\n",
       "      <th>file_id</th>\n",
       "      <th>expr_unstr_count</th>\n",
       "      <th>tissue_type</th>\n",
       "      <th>sample_type</th>\n",
       "      <th>primary_site</th>\n",
       "      <th>tissue_or_organ_of_origin</th>\n",
       "      <th>age_at_diagnosis</th>\n",
       "      <th>primary_diagnosis</th>\n",
       "      <th>race</th>\n",
       "      <th>gender</th>\n",
       "    </tr>\n",
       "  </thead>\n",
       "  <tbody>\n",
       "    <tr>\n",
       "      <th>0</th>\n",
       "      <td>3d6d7d55-0897-5df4-a8b1-81bd5a0ca0fa</td>\n",
       "      <td>ed09e2a8-9640-4237-8ab5-192563f02c2c</td>\n",
       "      <td>[0, 0, 0, 0, 0, 5, 3, 1, 0, 0, 0, 0, 0, 0, 5, ...</td>\n",
       "      <td>Tumor</td>\n",
       "      <td>Primary Tumor</td>\n",
       "      <td>Bone</td>\n",
       "      <td>Long bones of lower limb and associated joints</td>\n",
       "      <td>4418.0</td>\n",
       "      <td>Osteosarcoma, NOS</td>\n",
       "      <td>white</td>\n",
       "      <td>female</td>\n",
       "    </tr>\n",
       "    <tr>\n",
       "      <th>1</th>\n",
       "      <td>a30b4903-2111-545d-9df5-88d507d5682b</td>\n",
       "      <td>600df3cf-c08c-4292-8334-df2ed1911d43</td>\n",
       "      <td>[1, 0, 0, 0, 0, 0, 0, 0, 0, 1, 0, 0, 0, 0, 0, ...</td>\n",
       "      <td>Tumor</td>\n",
       "      <td>Primary Tumor</td>\n",
       "      <td>Bone</td>\n",
       "      <td>Long bones of lower limb and associated joints</td>\n",
       "      <td>4507.0</td>\n",
       "      <td>Osteosarcoma, NOS</td>\n",
       "      <td>Unknown</td>\n",
       "      <td>female</td>\n",
       "    </tr>\n",
       "    <tr>\n",
       "      <th>2</th>\n",
       "      <td>87c9e381-e555-5b87-9bc4-f0f541693d0f</td>\n",
       "      <td>08d725aa-814f-438e-ab6e-e040ab3f1791</td>\n",
       "      <td>[0, 0, 0, 0, 0, 0, 0, 0, 0, 0, 0, 0, 0, 0, 0, ...</td>\n",
       "      <td>Tumor</td>\n",
       "      <td>Primary Tumor</td>\n",
       "      <td>Bone</td>\n",
       "      <td>Long bones of lower limb and associated joints</td>\n",
       "      <td>6702.0</td>\n",
       "      <td>Osteosarcoma, NOS</td>\n",
       "      <td>white</td>\n",
       "      <td>female</td>\n",
       "    </tr>\n",
       "    <tr>\n",
       "      <th>3</th>\n",
       "      <td>62db1003-b66f-59f4-a51e-8e2e96292fcd</td>\n",
       "      <td>6f283450-ecd1-46c8-8e2d-7b6955d2d09a</td>\n",
       "      <td>[0, 1, 0, 1, 0, 0, 1, 0, 0, 0, 1, 0, 1, 0, 0, ...</td>\n",
       "      <td>Tumor</td>\n",
       "      <td>Primary Tumor</td>\n",
       "      <td>Bone</td>\n",
       "      <td>Long bones of lower limb and associated joints</td>\n",
       "      <td>4464.0</td>\n",
       "      <td>Osteosarcoma, NOS</td>\n",
       "      <td>white</td>\n",
       "      <td>female</td>\n",
       "    </tr>\n",
       "    <tr>\n",
       "      <th>4</th>\n",
       "      <td>2ac8ce78-35a9-5f0a-b3e7-43056cce81c1</td>\n",
       "      <td>d5f72dfe-9797-4743-94a3-e0430cc0174d</td>\n",
       "      <td>[0, 0, 0, 0, 3, 0, 1, 0, 0, 0, 0, 0, 0, 3, 0, ...</td>\n",
       "      <td>Tumor</td>\n",
       "      <td>Primary Tumor</td>\n",
       "      <td>Bone</td>\n",
       "      <td>Long bones of lower limb and associated joints</td>\n",
       "      <td>4509.0</td>\n",
       "      <td>Osteosarcoma, NOS</td>\n",
       "      <td>white</td>\n",
       "      <td>female</td>\n",
       "    </tr>\n",
       "  </tbody>\n",
       "</table>\n",
       "</div>"
      ],
      "text/plain": [
       "                                case_id                               file_id  \\\n",
       "0  3d6d7d55-0897-5df4-a8b1-81bd5a0ca0fa  ed09e2a8-9640-4237-8ab5-192563f02c2c   \n",
       "1  a30b4903-2111-545d-9df5-88d507d5682b  600df3cf-c08c-4292-8334-df2ed1911d43   \n",
       "2  87c9e381-e555-5b87-9bc4-f0f541693d0f  08d725aa-814f-438e-ab6e-e040ab3f1791   \n",
       "3  62db1003-b66f-59f4-a51e-8e2e96292fcd  6f283450-ecd1-46c8-8e2d-7b6955d2d09a   \n",
       "4  2ac8ce78-35a9-5f0a-b3e7-43056cce81c1  d5f72dfe-9797-4743-94a3-e0430cc0174d   \n",
       "\n",
       "                                    expr_unstr_count tissue_type  \\\n",
       "0  [0, 0, 0, 0, 0, 5, 3, 1, 0, 0, 0, 0, 0, 0, 5, ...       Tumor   \n",
       "1  [1, 0, 0, 0, 0, 0, 0, 0, 0, 1, 0, 0, 0, 0, 0, ...       Tumor   \n",
       "2  [0, 0, 0, 0, 0, 0, 0, 0, 0, 0, 0, 0, 0, 0, 0, ...       Tumor   \n",
       "3  [0, 1, 0, 1, 0, 0, 1, 0, 0, 0, 1, 0, 1, 0, 0, ...       Tumor   \n",
       "4  [0, 0, 0, 0, 3, 0, 1, 0, 0, 0, 0, 0, 0, 3, 0, ...       Tumor   \n",
       "\n",
       "     sample_type primary_site                       tissue_or_organ_of_origin  \\\n",
       "0  Primary Tumor         Bone  Long bones of lower limb and associated joints   \n",
       "1  Primary Tumor         Bone  Long bones of lower limb and associated joints   \n",
       "2  Primary Tumor         Bone  Long bones of lower limb and associated joints   \n",
       "3  Primary Tumor         Bone  Long bones of lower limb and associated joints   \n",
       "4  Primary Tumor         Bone  Long bones of lower limb and associated joints   \n",
       "\n",
       "   age_at_diagnosis  primary_diagnosis     race  gender  \n",
       "0            4418.0  Osteosarcoma, NOS    white  female  \n",
       "1            4507.0  Osteosarcoma, NOS  Unknown  female  \n",
       "2            6702.0  Osteosarcoma, NOS    white  female  \n",
       "3            4464.0  Osteosarcoma, NOS    white  female  \n",
       "4            4509.0  Osteosarcoma, NOS    white  female  "
      ]
     },
     "execution_count": 49,
     "metadata": {},
     "output_type": "execute_result"
    }
   ],
   "source": [
    "data_bq_with_labels.head()"
   ]
  },
  {
   "cell_type": "markdown",
   "metadata": {},
   "source": [
    "## 0.4 Upload to bigquery"
   ]
  },
  {
   "cell_type": "code",
   "execution_count": 12,
   "metadata": {},
   "outputs": [],
   "source": [
    "df.to_csv('./de_gsea_data/all_unstr_tumor_normal.csv', index=False)"
   ]
  }
 ],
 "metadata": {
  "kernelspec": {
   "display_name": "gdclone",
   "language": "python",
   "name": "python3"
  },
  "language_info": {
   "codemirror_mode": {
    "name": "ipython",
    "version": 3
   },
   "file_extension": ".py",
   "mimetype": "text/x-python",
   "name": "python",
   "nbconvert_exporter": "python",
   "pygments_lexer": "ipython3",
   "version": "3.11.6"
  }
 },
 "nbformat": 4,
 "nbformat_minor": 2
}
