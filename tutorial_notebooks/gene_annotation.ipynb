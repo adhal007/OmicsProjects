{
 "cells": [
  {
   "cell_type": "code",
   "execution_count": 9,
   "metadata": {},
   "outputs": [],
   "source": [
    "import os\n",
    "import pandas as pd"
   ]
  },
  {
   "cell_type": "code",
   "execution_count": 5,
   "metadata": {},
   "outputs": [],
   "source": [
    "file_path = './Transcriptomics/data/gene_annotation/gencode.v36.annotation.gtf'\n",
    "\n",
    "def get_ens_dict(file_path):\n",
    "    with open(file_path) as f:\n",
    "        gtf = list(f)\n",
    "\n",
    "    gtf = [x for x in gtf if not x.startswith('#')]\n",
    "    gtf = [x for x in gtf if 'gene_id \"' in x and 'gene_name \"' in x]\n",
    "    if len(gtf) == 0:\n",
    "        print('you need to change gene_id \" and gene_name \" formats')\n",
    "    \n",
    "    gtf = list(map(lambda x: (x.split('gene_id \"')[1].split('\"')[0], x.split('gene_name \"')[1].split('\"')[0]), gtf))\n",
    "    gtf = dict(set(gtf))\n",
    "    return gtf"
   ]
  },
  {
   "cell_type": "code",
   "execution_count": 6,
   "metadata": {},
   "outputs": [],
   "source": [
    "gtf_anno = get_ens_dict(file_path)"
   ]
  },
  {
   "cell_type": "code",
   "execution_count": 16,
   "metadata": {},
   "outputs": [],
   "source": [
    "gtf_anno_df = pd.DataFrame.from_dict(gtf_anno, orient='index').reset_index()\n",
    "gtf_anno_df.columns = ['gene_id', 'gene_name'] "
   ]
  },
  {
   "cell_type": "code",
   "execution_count": 18,
   "metadata": {},
   "outputs": [],
   "source": [
    "gtf_anno_df.to_csv('./Transcriptomics/data/gene_annotation/gene_id_to_gene_name_mapping.csv', index=False)"
   ]
  }
 ],
 "metadata": {
  "kernelspec": {
   "display_name": "umap-env",
   "language": "python",
   "name": "python3"
  },
  "language_info": {
   "codemirror_mode": {
    "name": "ipython",
    "version": 3
   },
   "file_extension": ".py",
   "mimetype": "text/x-python",
   "name": "python",
   "nbconvert_exporter": "python",
   "pygments_lexer": "ipython3",
   "version": "3.11.6"
  },
  "orig_nbformat": 4
 },
 "nbformat": 4,
 "nbformat_minor": 2
}
