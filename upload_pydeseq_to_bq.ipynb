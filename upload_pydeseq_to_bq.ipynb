{
 "cells": [
  {
   "cell_type": "code",
   "execution_count": 1,
   "metadata": {},
   "outputs": [
    {
     "data": {
      "text/plain": [
       "<module 'src.Engines.gdc_engine' from '/Users/abhilashdhal/Projects/src/Engines/gdc_engine.py'>"
      ]
     },
     "execution_count": 1,
     "metadata": {},
     "output_type": "execute_result"
    }
   ],
   "source": [
    "import grequests\n",
    "import pandas as pd\n",
    "import numpy as np\n",
    "import src.Engines.gdc_engine as gdc_engine\n",
    "import os\n",
    "from importlib import reload\n",
    "from flatten_json import flatten\n",
    "import multiprocessing\n",
    "import requests\n",
    "import io\n",
    "import src.Connectors.gdc_endpt_base as gdc_endpt_base\n",
    "import concurrent.futures\n",
    "import requests\n",
    "import json\n",
    "import src.Connectors.mongo_db_conn as mongodbc\n",
    "from tqdm import tqdm\n",
    "from google.cloud import bigquery\n",
    "reload(mongodbc)\n",
    "reload(gdc_endpt_base)\n",
    "reload(gdc_engine)\n",
    "\n",
    "\n"
   ]
  },
  {
   "cell_type": "code",
   "execution_count": null,
   "metadata": {},
   "outputs": [],
   "source": []
  }
 ],
 "metadata": {
  "kernelspec": {
   "display_name": "omixhub",
   "language": "python",
   "name": "python3"
  },
  "language_info": {
   "codemirror_mode": {
    "name": "ipython",
    "version": 3
   },
   "file_extension": ".py",
   "mimetype": "text/x-python",
   "name": "python",
   "nbconvert_exporter": "python",
   "pygments_lexer": "ipython3",
   "version": "3.11.6"
  }
 },
 "nbformat": 4,
 "nbformat_minor": 2
}
