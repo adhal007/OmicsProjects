{
 "cells": [
  {
   "cell_type": "code",
   "execution_count": 1,
   "metadata": {},
   "outputs": [
    {
     "ename": "ModuleNotFoundError",
     "evalue": "No module named 'OutlierStatMethods.outlier_sum_stat_perm.OSPerm'; 'OutlierStatMethods.outlier_sum_stat_perm' is not a package",
     "output_type": "error",
     "traceback": [
      "\u001b[0;31m---------------------------------------------------------------------------\u001b[0m",
      "\u001b[0;31mModuleNotFoundError\u001b[0m                       Traceback (most recent call last)",
      "\u001b[1;32m/Users/abhilashdhal/Projects/outlier_stat_method_demo.ipynb Cell 1\u001b[0m line \u001b[0;36m4\n\u001b[1;32m      <a href='vscode-notebook-cell:/Users/abhilashdhal/Projects/outlier_stat_method_demo.ipynb#W0sZmlsZQ%3D%3D?line=1'>2</a>\u001b[0m \u001b[39mimport\u001b[39;00m \u001b[39mscipy\u001b[39;00m\u001b[39m.\u001b[39;00m\u001b[39mstats\u001b[39;00m \u001b[39mas\u001b[39;00m \u001b[39msp\u001b[39;00m \n\u001b[1;32m      <a href='vscode-notebook-cell:/Users/abhilashdhal/Projects/outlier_stat_method_demo.ipynb#W0sZmlsZQ%3D%3D?line=2'>3</a>\u001b[0m \u001b[39mimport\u001b[39;00m \u001b[39mpandas\u001b[39;00m \u001b[39mas\u001b[39;00m \u001b[39mpd\u001b[39;00m \n\u001b[0;32m----> <a href='vscode-notebook-cell:/Users/abhilashdhal/Projects/outlier_stat_method_demo.ipynb#W0sZmlsZQ%3D%3D?line=3'>4</a>\u001b[0m \u001b[39mimport\u001b[39;00m \u001b[39mOutlierStatMethods\u001b[39;00m\u001b[39m.\u001b[39;00m\u001b[39moutlier_sum_stat_perm\u001b[39;00m\u001b[39m.\u001b[39;00m\u001b[39mOSPerm\u001b[39;00m\n",
      "\u001b[0;31mModuleNotFoundError\u001b[0m: No module named 'OutlierStatMethods.outlier_sum_stat_perm.OSPerm'; 'OutlierStatMethods.outlier_sum_stat_perm' is not a package"
     ]
    }
   ],
   "source": [
    "import numpy as np\n",
    "import scipy.stats as sp \n",
    "import pandas as pd \n",
    "import OutlierStatMethods.outlier_sum_stat_perm\n"
   ]
  },
  {
   "cell_type": "markdown",
   "metadata": {},
   "source": [
    "## 0. Generate pseudo datasets for disease and controls "
   ]
  },
  {
   "cell_type": "code",
   "execution_count": 2,
   "metadata": {},
   "outputs": [],
   "source": [
    "rng = np.random.default_rng()"
   ]
  },
  {
   "cell_type": "code",
   "execution_count": 3,
   "metadata": {},
   "outputs": [],
   "source": [
    "disease_data = pd.DataFrame(rng.normal(1, 1, size=(50, 200)))\n",
    "control_data = pd.DataFrame(rng.normal(1.3, 1, size=(50, 200)))"
   ]
  },
  {
   "cell_type": "markdown",
   "metadata": {},
   "source": [
    "## 1. Initialize and apply Outlier Stat Methods"
   ]
  },
  {
   "cell_type": "code",
   "execution_count": 4,
   "metadata": {},
   "outputs": [],
   "source": [
    "import OutlierStatMethods.base_class"
   ]
  },
  {
   "cell_type": "code",
   "execution_count": 5,
   "metadata": {},
   "outputs": [],
   "source": [
    "base_class = OutlierStatMethods.base_class.OutlierStatMethod()"
   ]
  },
  {
   "cell_type": "code",
   "execution_count": 6,
   "metadata": {},
   "outputs": [],
   "source": [
    "meds = [base_class.get_median(disease_data.iloc[:, i]) for i in range(disease_data.shape[1])]\n",
    "mads = [base_class.get_mad(disease_data.iloc[:, i]) for i in range(disease_data.shape[1])]\n",
    "disease_data_norm = [(disease_data.iloc[:, i].to_numpy() - meds[i])/mads[i] for i in range(disease_data.shape[1])]\n",
    "disease_data_norm_df = pd.DataFrame(disease_data_norm)"
   ]
  },
  {
   "cell_type": "code",
   "execution_count": null,
   "metadata": {},
   "outputs": [],
   "source": []
  }
 ],
 "metadata": {
  "kernelspec": {
   "display_name": "Python 3",
   "language": "python",
   "name": "python3"
  },
  "language_info": {
   "codemirror_mode": {
    "name": "ipython",
    "version": 3
   },
   "file_extension": ".py",
   "mimetype": "text/x-python",
   "name": "python",
   "nbconvert_exporter": "python",
   "pygments_lexer": "ipython3",
   "version": "3.11.5"
  },
  "orig_nbformat": 4
 },
 "nbformat": 4,
 "nbformat_minor": 2
}
