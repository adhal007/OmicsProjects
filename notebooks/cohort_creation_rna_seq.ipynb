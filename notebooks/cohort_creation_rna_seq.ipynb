{
 "cells": [
  {
   "cell_type": "markdown",
   "metadata": {},
   "source": [
    "## Template for creating RNA-Seq Data Matrix for different Primary sites"
   ]
  },
  {
   "cell_type": "code",
   "execution_count": 1,
   "metadata": {},
   "outputs": [
    {
     "name": "stdout",
     "output_type": "stream",
     "text": [
      "/Users/abhilashdhal/Projects\n"
     ]
    },
    {
     "data": {
      "text/plain": [
       "<module 'src.Engines.gdc_engine' from '/Users/abhilashdhal/Projects/src/Engines/gdc_engine.py'>"
      ]
     },
     "execution_count": 1,
     "metadata": {},
     "output_type": "execute_result"
    }
   ],
   "source": [
    "%cd .. \n",
    "\n",
    "import grequests\n",
    "import pandas as pd\n",
    "import numpy as np\n",
    "import src.Engines.gdc_engine as gdc_engine\n",
    "import os\n",
    "from importlib import reload\n",
    "from flatten_json import flatten\n",
    "from tqdm import tqdm \n",
    "\n",
    "\n",
    "reload(gdc_engine)"
   ]
  },
  {
   "cell_type": "markdown",
   "metadata": {},
   "source": [
    "## 0.1. Get Metadata"
   ]
  },
  {
   "cell_type": "code",
   "execution_count": 2,
   "metadata": {},
   "outputs": [
    {
     "name": "stdout",
     "output_type": "stream",
     "text": [
      "dict_keys(['files.experimental_strategy', 'data_type'])\n",
      "file_id,file_name,experimental_strategy,data_type,platform,cases.case_id,cases.diagnoses.last_known_disease_status,cases.diagnoses.primary_diagnosis,cases.diagnoses.tumor_stage,cases.diagnoses.tumor_grade,cases.diagnoses.treatments.treatment_or_therapy,cases.diagnoses.days_to_last_follow_up,cases.diagnoses.age_at_diagnosis,cases.diagnoses.days_to_death,cases.project.primary_site,analysis.workflow_type,cases.demographic.ethnicity,cases.demographic.gender,cases.demographic.race,cases.diagnoses.tissue_or_organ_of_origin,cases.exposures.bmi,cases.exposures.alcohol_history,cases.exposures.years_smoked,cases.samples.tissue_type\n"
     ]
    }
   ],
   "source": [
    "\n",
    "params = {\n",
    "    'files.experimental_strategy': 'RNA-Seq', \n",
    "    'data_type': 'Gene Expression Quantification'\n",
    "}\n",
    "\n",
    "gdc_eng_inst = gdc_engine.GDCEngine(**params)\n",
    "rna_seq_metadata = gdc_eng_inst._get_rna_seq_metadata()\n",
    "meta = rna_seq_metadata['metadata']\n",
    "\n"
   ]
  },
  {
   "cell_type": "markdown",
   "metadata": {},
   "source": [
    "## 0.2. Print the count of primary_sites descending by most counts"
   ]
  },
  {
   "cell_type": "code",
   "execution_count": 3,
   "metadata": {},
   "outputs": [
    {
     "data": {
      "text/plain": [
       "primary_site\n",
       "Blood             3564\n",
       "Kidney            1246\n",
       "Breast            1230\n",
       "Lung              1153\n",
       "Brain              703\n",
       "Colorectal         698\n",
       "Uterus             634\n",
       "Thyroid            572\n",
       "Head and Neck      566\n",
       "Prostate           554\n",
       "Skin               473\n",
       "Stomach            448\n",
       "Bladder            431\n",
       "Ovary              429\n",
       "Liver              424\n",
       "Lymph Nodes        398\n",
       "Cervix             309\n",
       "Adrenal Gland      266\n",
       "Soft Tissue        265\n",
       "Esophagus          198\n",
       "Pancreas           183\n",
       "Nervous System     162\n",
       "Bone Marrow        151\n",
       "Testis             139\n",
       "Thymus             122\n",
       "Bone                88\n",
       "Pleura              87\n",
       "Eye                 80\n",
       "Bile Duct           44\n",
       "Name: count, dtype: int64"
      ]
     },
     "execution_count": 3,
     "metadata": {},
     "output_type": "execute_result"
    }
   ],
   "source": [
    "meta['primary_site'].value_counts()"
   ]
  },
  {
   "cell_type": "markdown",
   "metadata": {},
   "source": [
    "## 0.3. Choose a primary site to create the data set "
   ]
  },
  {
   "cell_type": "code",
   "execution_count": 4,
   "metadata": {},
   "outputs": [],
   "source": [
    "def create_data_matrix_for_DE(primary_site):\n",
    "    lung_meta = meta[meta['primary_site'] == primary_site].reset_index(drop=True)\n",
    "\n",
    "    chunks = lung_meta.shape[0]//50\n",
    "    chunk_ls = []\n",
    "    for chunk_i in tqdm(range(chunks)):\n",
    "        lung_meta_i = lung_meta.iloc[chunk_i*50:(chunk_i*50+50), :].reset_index(drop=True)\n",
    "        file_ids = lung_meta_i['file_id'].to_list()\n",
    "        file_id_url_map =  gdc_eng_inst._make_file_id_url_map(file_ids)\n",
    "        rawDataMap = gdc_eng_inst._get_urls_content(file_id_url_map)\n",
    "        ids_with_none = [key for key in rawDataMap.keys() if rawDataMap[key] is None]\n",
    "        rna_seq_data_matrix = gdc_eng_inst._make_rna_seq_data_matrix(rawDataMap, lung_meta_i, feature_col='unstranded')\n",
    "        \n",
    "        lung_meta_sub_i = lung_meta_i[~lung_meta_i['file_id'].isin(ids_with_none)]\n",
    "        rna_seq_data_matrix['tissue_type'] = lung_meta_sub_i['tissue_type'].to_numpy()\n",
    "        rna_seq_data_matrix['case_id'] = lung_meta_sub_i['case_id'].to_numpy()\n",
    "        chunk_ls.append(rna_seq_data_matrix)\n",
    "    df = pd.concat(chunk_ls)\n",
    "    return df "
   ]
  },
  {
   "cell_type": "code",
   "execution_count": 5,
   "metadata": {},
   "outputs": [
    {
     "name": "stderr",
     "output_type": "stream",
     "text": [
      "  0%|          | 0/24 [00:00<?, ?it/s]"
     ]
    },
    {
     "name": "stderr",
     "output_type": "stream",
     "text": [
      "100%|██████████| 50/50 [00:00<00:00, 84.64it/s]\n",
      "100%|██████████| 50/50 [00:00<00:00, 92.36it/s]\n",
      "100%|██████████| 50/50 [00:00<00:00, 86.16it/s]\n",
      "100%|██████████| 50/50 [00:00<00:00, 67.06it/s]\n",
      "100%|██████████| 50/50 [00:00<00:00, 68.80it/s]\n",
      "100%|██████████| 50/50 [00:00<00:00, 85.39it/s]\n",
      "100%|██████████| 50/50 [00:00<00:00, 89.11it/s]\n",
      "100%|██████████| 50/50 [00:00<00:00, 81.83it/s]\n",
      "100%|██████████| 50/50 [00:00<00:00, 89.54it/s]\n",
      "100%|██████████| 50/50 [00:00<00:00, 91.12it/s]\n",
      "100%|██████████| 50/50 [00:00<00:00, 91.31it/s]\n",
      "100%|██████████| 50/50 [00:00<00:00, 85.87it/s]\n",
      "100%|██████████| 50/50 [00:00<00:00, 62.62it/s]\n",
      "100%|██████████| 50/50 [00:00<00:00, 69.43it/s]\n",
      "100%|██████████| 50/50 [00:00<00:00, 55.70it/s]\n",
      "100%|██████████| 50/50 [00:00<00:00, 64.15it/s]\n",
      "100%|██████████| 50/50 [00:00<00:00, 54.13it/s]\n",
      "100%|██████████| 50/50 [00:00<00:00, 82.54it/s]\n",
      "100%|██████████| 50/50 [00:00<00:00, 91.25it/s]\n",
      "100%|██████████| 50/50 [00:00<00:00, 91.12it/s]\n",
      "100%|██████████| 50/50 [00:00<00:00, 78.60it/s]\n",
      "100%|██████████| 50/50 [00:00<00:00, 93.78it/s]\n",
      "100%|██████████| 50/50 [00:00<00:00, 78.73it/s]\n",
      "100%|██████████| 50/50 [00:00<00:00, 82.20it/s]\n",
      "100%|██████████| 24/24 [06:04<00:00, 15.17s/it]\n"
     ]
    }
   ],
   "source": [
    "primary_site = 'Kidney'\n",
    "df = create_data_matrix_for_DE(primary_site)"
   ]
  },
  {
   "cell_type": "code",
   "execution_count": 6,
   "metadata": {},
   "outputs": [],
   "source": [
    "df.to_csv('./de_gsea_data/kidney_unstr_tumor_normal.csv', index=False)"
   ]
  },
  {
   "cell_type": "code",
   "execution_count": null,
   "metadata": {},
   "outputs": [],
   "source": []
  }
 ],
 "metadata": {
  "kernelspec": {
   "display_name": "gdclone",
   "language": "python",
   "name": "python3"
  },
  "language_info": {
   "codemirror_mode": {
    "name": "ipython",
    "version": 3
   },
   "file_extension": ".py",
   "mimetype": "text/x-python",
   "name": "python",
   "nbconvert_exporter": "python",
   "pygments_lexer": "ipython3",
   "version": "3.11.5"
  }
 },
 "nbformat": 4,
 "nbformat_minor": 2
}
