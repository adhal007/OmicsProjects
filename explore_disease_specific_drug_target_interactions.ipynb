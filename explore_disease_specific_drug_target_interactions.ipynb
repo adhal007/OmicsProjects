{
 "cells": [
  {
   "cell_type": "code",
   "execution_count": 20,
   "metadata": {},
   "outputs": [],
   "source": [
    "\n",
    "\n",
    "\n"
   ]
  },
  {
   "cell_type": "markdown",
   "metadata": {},
   "source": [
    "## Get proteins for a set of DEG's "
   ]
  },
  {
   "cell_type": "code",
   "execution_count": null,
   "metadata": {},
   "outputs": [],
   "source": [
    "import mygene\n",
    "mg = mygene.MyGeneInfo()\n",
    "gene_info = mg.querymany(['BRCA1', 'TP53', 'EGFR', 'MYC'], scopes='symbol', fields='uniprot', species='human')"
   ]
  },
  {
   "cell_type": "code",
   "execution_count": 26,
   "metadata": {},
   "outputs": [
    {
     "data": {
      "text/plain": [
       "[{'query': 'BRCA1',\n",
       "  '_id': '672',\n",
       "  '_score': 18.0374,\n",
       "  'uniprot': {'Swiss-Prot': 'P38398',\n",
       "   'TrEMBL': ['A0A9Y1QPT7',\n",
       "    'A0A9Y1QQK3',\n",
       "    'E9PC22',\n",
       "    'C6YB45',\n",
       "    'E7ENB7',\n",
       "    'A0A2R8Y7V5',\n",
       "    'K7EJW3',\n",
       "    'A0A2R8Y6Y9',\n",
       "    'E7EQW4',\n",
       "    'A0A8V8TPY7',\n",
       "    'A0A0U1RRA9',\n",
       "    'E7EUM2',\n",
       "    'H0Y8B8',\n",
       "    'H0Y850',\n",
       "    'K7EPC7',\n",
       "    'H0Y8D8',\n",
       "    'C9IZW4']}},\n",
       " {'query': 'TP53',\n",
       "  '_id': '7157',\n",
       "  '_score': 17.982977,\n",
       "  'uniprot': {'Swiss-Prot': 'P04637',\n",
       "   'TrEMBL': ['A0A087X1Q1',\n",
       "    'K7PPA8',\n",
       "    'H2EHT1',\n",
       "    'Q53GA5',\n",
       "    'A0A087WXZ1',\n",
       "    'A0A087WT22',\n",
       "    'J3KP33',\n",
       "    'I3L0W9',\n",
       "    'E7ESS1',\n",
       "    'E9PCY9',\n",
       "    'E7EMR6',\n",
       "    'E9PFT5',\n",
       "    'A0A0U1RQC9',\n",
       "    'E7EQX7',\n",
       "    'S4R334']}},\n",
       " {'query': 'EGFR',\n",
       "  '_id': '1956',\n",
       "  '_score': 17.386183,\n",
       "  'uniprot': {'Swiss-Prot': 'P00533',\n",
       "   'TrEMBL': ['B7Z2I3',\n",
       "    'Q504U8',\n",
       "    'C9JYS6',\n",
       "    'F2YGG7',\n",
       "    'E7BSV0',\n",
       "    'A0A8V8TPW8']}},\n",
       " {'query': 'MYC',\n",
       "  '_id': '4609',\n",
       "  '_score': 18.05438,\n",
       "  'uniprot': {'Swiss-Prot': 'P01106',\n",
       "   'TrEMBL': ['Q16591', 'A0A0B4J1R1', 'Q14899', 'H0YBG3', 'A0A494C1T8']}}]"
      ]
     },
     "execution_count": 26,
     "metadata": {},
     "output_type": "execute_result"
    }
   ],
   "source": [
    "gene_info"
   ]
  },
  {
   "cell_type": "code",
   "execution_count": null,
   "metadata": {},
   "outputs": [],
   "source": []
  }
 ],
 "metadata": {
  "kernelspec": {
   "display_name": "omixhub",
   "language": "python",
   "name": "python3"
  },
  "language_info": {
   "codemirror_mode": {
    "name": "ipython",
    "version": 3
   },
   "file_extension": ".py",
   "mimetype": "text/x-python",
   "name": "python",
   "nbconvert_exporter": "python",
   "pygments_lexer": "ipython3",
   "version": "3.11.6"
  }
 },
 "nbformat": 4,
 "nbformat_minor": 2
}
